{
 "cells": [
  {
   "cell_type": "markdown",
   "metadata": {},
   "source": [
    "### **Libraries**\n",
    "\n",
    "Some of the needed libraries for this project."
   ]
  },
  {
   "cell_type": "code",
   "execution_count": 20,
   "metadata": {},
   "outputs": [],
   "source": [
    "import os\n",
    "import openai\n",
    "from openai import OpenAI"
   ]
  },
  {
   "cell_type": "code",
   "execution_count": 21,
   "metadata": {},
   "outputs": [],
   "source": [
    "import pathlib\n",
    "import textwrap\n",
    "\n",
    "from IPython.display import display\n",
    "from IPython.display import Markdown\n",
    "\n",
    "\n",
    "def to_markdown(text):\n",
    "  text = text.replace('•', '  *')\n",
    "  return Markdown(textwrap.indent(text, '> ', predicate=lambda _: True))"
   ]
  },
  {
   "cell_type": "code",
   "execution_count": 22,
   "metadata": {},
   "outputs": [],
   "source": [
    "OPENAI_API_KEY = os.getenv(\"OPENAI_API_KEY\") # OpenAI API key"
   ]
  },
  {
   "cell_type": "markdown",
   "metadata": {},
   "source": [
    "#### **Define a client**\n",
    "\n",
    "Created an instance of the OpenAI model"
   ]
  },
  {
   "cell_type": "code",
   "execution_count": 23,
   "metadata": {},
   "outputs": [],
   "source": [
    "# define an instance of OpenAI model\n",
    "client = OpenAI(api_key=OPENAI_API_KEY)"
   ]
  },
  {
   "cell_type": "markdown",
   "metadata": {},
   "source": [
    "#### **Audio transcription**\n",
    "\n",
    "Transcribed the audio file."
   ]
  },
  {
   "cell_type": "code",
   "execution_count": 44,
   "metadata": {},
   "outputs": [],
   "source": [
    "audio_file= open(\"recent.mp3\", \"rb\")"
   ]
  },
  {
   "cell_type": "code",
   "execution_count": 45,
   "metadata": {},
   "outputs": [],
   "source": [
    "speech_to_text = client.audio.transcriptions.create(\n",
    "    model=\"whisper-1\",\n",
    "    file=audio_file\n",
    ")"
   ]
  },
  {
   "cell_type": "code",
   "execution_count": 46,
   "metadata": {},
   "outputs": [
    {
     "data": {
      "text/markdown": [
       "> A list of the events I'll be having in the meantime. On the 8th of August, I'll be having a demo for PagDrop by 3pm. Set the reminder for 15 minutes. While on the 9th of August, I'll be having an interview with Google for the position of Data Scientist. The time is 7pm and the interview will end by 7.30pm. Set the reminder for 10 minutes. While on the 10th of August, I'll be having a final presentation with the university by 10am and it will last for an hour. So set the reminder for 5 minutes. While on the 11th of August, I'll be having another event which is Project Continuation. It's going to start by 6pm and it will end by 9pm. Set the reminder for 30 minutes."
      ],
      "text/plain": [
       "<IPython.core.display.Markdown object>"
      ]
     },
     "execution_count": 46,
     "metadata": {},
     "output_type": "execute_result"
    }
   ],
   "source": [
    "to_markdown(speech_to_text.text)"
   ]
  },
  {
   "cell_type": "markdown",
   "metadata": {},
   "source": [
    "### **Conversational chat**\n",
    "\n",
    "Using conversational chat to extract event related data."
   ]
  },
  {
   "cell_type": "code",
   "execution_count": 47,
   "metadata": {},
   "outputs": [],
   "source": [
    "extract_prompt = f\"\"\"\n",
    "You are an assistant that creates a well crafted schedule from text. \n",
    "Extract all events related data from the provided text and put it in JSON format.\n",
    "\n",
    "\n",
    "{speech_to_text.text}\n",
    "\"\"\""
   ]
  },
  {
   "cell_type": "code",
   "execution_count": 48,
   "metadata": {},
   "outputs": [],
   "source": [
    "from langchain_openai import ChatOpenAI"
   ]
  },
  {
   "cell_type": "code",
   "execution_count": 49,
   "metadata": {},
   "outputs": [],
   "source": [
    "chatmodel = ChatOpenAI(\n",
    "    model='gpt-4o',\n",
    "    api_key=OPENAI_API_KEY,\n",
    "    temperature=0.3,\n",
    ")"
   ]
  },
  {
   "cell_type": "code",
   "execution_count": 50,
   "metadata": {},
   "outputs": [],
   "source": [
    "format_chat  = chatmodel.invoke(extract_prompt)\n"
   ]
  },
  {
   "cell_type": "code",
   "execution_count": 51,
   "metadata": {},
   "outputs": [
    {
     "data": {
      "text/markdown": [
       "> ```json\n",
       "> {\n",
       ">   \"events\": [\n",
       ">     {\n",
       ">       \"title\": \"Demo for PagDrop\",\n",
       ">       \"date\": \"2023-08-08\",\n",
       ">       \"start_time\": \"15:00\",\n",
       ">       \"end_time\": null,\n",
       ">       \"reminder\": \"15 minutes\"\n",
       ">     },\n",
       ">     {\n",
       ">       \"title\": \"Interview with Google for the position of Data Scientist\",\n",
       ">       \"date\": \"2023-08-09\",\n",
       ">       \"start_time\": \"19:00\",\n",
       ">       \"end_time\": \"19:30\",\n",
       ">       \"reminder\": \"10 minutes\"\n",
       ">     },\n",
       ">     {\n",
       ">       \"title\": \"Final presentation with the university\",\n",
       ">       \"date\": \"2023-08-10\",\n",
       ">       \"start_time\": \"10:00\",\n",
       ">       \"end_time\": \"11:00\",\n",
       ">       \"reminder\": \"5 minutes\"\n",
       ">     },\n",
       ">     {\n",
       ">       \"title\": \"Project Continuation\",\n",
       ">       \"date\": \"2023-08-11\",\n",
       ">       \"start_time\": \"18:00\",\n",
       ">       \"end_time\": \"21:00\",\n",
       ">       \"reminder\": \"30 minutes\"\n",
       ">     }\n",
       ">   ]\n",
       "> }\n",
       "> ```"
      ],
      "text/plain": [
       "<IPython.core.display.Markdown object>"
      ]
     },
     "execution_count": 51,
     "metadata": {},
     "output_type": "execute_result"
    }
   ],
   "source": [
    "to_markdown(format_chat.content)"
   ]
  },
  {
   "cell_type": "markdown",
   "metadata": {},
   "source": [
    "#### **Convert the datatype**"
   ]
  },
  {
   "cell_type": "code",
   "execution_count": 52,
   "metadata": {},
   "outputs": [],
   "source": [
    "data_type = f\"\"\"\n",
    "I want you to convert the date and time from the text to a format that can be easily converted\n",
    "Put all time in 24 hours format.\n",
    "\n",
    "\n",
    "Example:\n",
    "21st of July 2024 >> 2024-07-21\n",
    "10 minutes >> 00:10\n",
    "\n",
    "and parse the output as a JSON object, just the JSON object of the event data and nothing else.\n",
    "\n",
    "\n",
    "{format_chat.content}\n",
    "\"\"\""
   ]
  },
  {
   "cell_type": "code",
   "execution_count": 53,
   "metadata": {},
   "outputs": [
    {
     "data": {
      "text/markdown": [
       "> ```json\n",
       "> {\n",
       ">   \"events\": [\n",
       ">     {\n",
       ">       \"title\": \"Demo for PagDrop\",\n",
       ">       \"date\": \"2023-08-08\",\n",
       ">       \"start_time\": \"15:00\",\n",
       ">       \"end_time\": null,\n",
       ">       \"reminder\": \"00:15\"\n",
       ">     },\n",
       ">     {\n",
       ">       \"title\": \"Interview with Google for the position of Data Scientist\",\n",
       ">       \"date\": \"2023-08-09\",\n",
       ">       \"start_time\": \"19:00\",\n",
       ">       \"end_time\": \"19:30\",\n",
       ">       \"reminder\": \"00:10\"\n",
       ">     },\n",
       ">     {\n",
       ">       \"title\": \"Final presentation with the university\",\n",
       ">       \"date\": \"2023-08-10\",\n",
       ">       \"start_time\": \"10:00\",\n",
       ">       \"end_time\": \"11:00\",\n",
       ">       \"reminder\": \"00:05\"\n",
       ">     },\n",
       ">     {\n",
       ">       \"title\": \"Project Continuation\",\n",
       ">       \"date\": \"2023-08-11\",\n",
       ">       \"start_time\": \"18:00\",\n",
       ">       \"end_time\": \"21:00\",\n",
       ">       \"reminder\": \"00:30\"\n",
       ">     }\n",
       ">   ]\n",
       "> }\n",
       "> ```"
      ],
      "text/plain": [
       "<IPython.core.display.Markdown object>"
      ]
     },
     "execution_count": 53,
     "metadata": {},
     "output_type": "execute_result"
    }
   ],
   "source": [
    "data_chat = chatmodel.invoke(data_type)\n",
    "to_markdown(data_chat.content)"
   ]
  },
  {
   "cell_type": "markdown",
   "metadata": {},
   "source": [
    "#### **String output to JSON file**"
   ]
  },
  {
   "cell_type": "code",
   "execution_count": 54,
   "metadata": {},
   "outputs": [],
   "source": [
    "# Used to create a JSON file\n",
    "import json"
   ]
  },
  {
   "cell_type": "code",
   "execution_count": 60,
   "metadata": {},
   "outputs": [
    {
     "data": {
      "text/plain": [
       "'```json\\n{\\n  \"events\": [\\n    {\\n      \"title\": \"Demo for PagDrop\",\\n      \"date\": \"2023-08-08\",\\n      \"start_time\": \"15:00\",\\n      \"end_time\": null,\\n      \"reminder\": \"00:15\"\\n    },\\n    {\\n      \"title\": \"Interview with Google for the position of Data Scientist\",\\n      \"date\": \"2023-08-09\",\\n      \"start_time\": \"19:00\",\\n      \"end_time\": \"19:30\",\\n      \"reminder\": \"00:10\"\\n    },\\n    {\\n      \"title\": \"Final presentation with the university\",\\n      \"date\": \"2023-08-10\",\\n      \"start_time\": \"10:00\",\\n      \"end_time\": \"11:00\",\\n      \"reminder\": \"00:05\"\\n    },\\n    {\\n      \"title\": \"Project Continuation\",\\n      \"date\": \"2023-08-11\",\\n      \"start_time\": \"18:00\",\\n      \"end_time\": \"21:00\",\\n      \"reminder\": \"00:30\"\\n    }\\n  ]\\n}\\n```'"
      ]
     },
     "execution_count": 60,
     "metadata": {},
     "output_type": "execute_result"
    }
   ],
   "source": [
    "data_chat.content"
   ]
  },
  {
   "cell_type": "markdown",
   "metadata": {},
   "source": [
    "The format of the output of *data_chat.content* was re-formatted to enable the JSON object to be parsed properly. "
   ]
  },
  {
   "cell_type": "code",
   "execution_count": 61,
   "metadata": {},
   "outputs": [],
   "source": [
    "# converts string to dictionary\n",
    "result_dict = json.loads(data_chat.content.strip('```json').strip('```'))"
   ]
  },
  {
   "cell_type": "code",
   "execution_count": 62,
   "metadata": {},
   "outputs": [],
   "source": [
    "\n",
    "# Define the file path\n",
    "json_file_path = 'events.json'\n",
    "\n",
    "# Write the result to the JSON file\n",
    "with open(json_file_path, 'w') as file:\n",
    "    json.dump(result_dict, file, indent=4)"
   ]
  },
  {
   "cell_type": "markdown",
   "metadata": {},
   "source": [
    "#### **JSON file to .ics file**"
   ]
  },
  {
   "cell_type": "code",
   "execution_count": 63,
   "metadata": {},
   "outputs": [
    {
     "ename": "TypeError",
     "evalue": "can only concatenate str (not \"NoneType\") to str",
     "output_type": "error",
     "traceback": [
      "\u001b[1;31m---------------------------------------------------------------------------\u001b[0m",
      "\u001b[1;31mTypeError\u001b[0m                                 Traceback (most recent call last)",
      "Cell \u001b[1;32mIn[63], line 22\u001b[0m\n\u001b[0;32m     20\u001b[0m \u001b[38;5;66;03m# Correctly access the properties of each event\u001b[39;00m\n\u001b[0;32m     21\u001b[0m start_date_str \u001b[38;5;241m=\u001b[39m event[\u001b[38;5;124m'\u001b[39m\u001b[38;5;124mdate\u001b[39m\u001b[38;5;124m'\u001b[39m] \u001b[38;5;241m+\u001b[39m \u001b[38;5;124m'\u001b[39m\u001b[38;5;124m \u001b[39m\u001b[38;5;124m'\u001b[39m \u001b[38;5;241m+\u001b[39m event[\u001b[38;5;124m'\u001b[39m\u001b[38;5;124mstart_time\u001b[39m\u001b[38;5;124m'\u001b[39m]\n\u001b[1;32m---> 22\u001b[0m end_date_str \u001b[38;5;241m=\u001b[39m \u001b[43mevent\u001b[49m\u001b[43m[\u001b[49m\u001b[38;5;124;43m'\u001b[39;49m\u001b[38;5;124;43mdate\u001b[39;49m\u001b[38;5;124;43m'\u001b[39;49m\u001b[43m]\u001b[49m\u001b[43m \u001b[49m\u001b[38;5;241;43m+\u001b[39;49m\u001b[43m \u001b[49m\u001b[38;5;124;43m'\u001b[39;49m\u001b[38;5;124;43m \u001b[39;49m\u001b[38;5;124;43m'\u001b[39;49m\u001b[43m \u001b[49m\u001b[38;5;241;43m+\u001b[39;49m\u001b[43m \u001b[49m\u001b[43mevent\u001b[49m\u001b[43m[\u001b[49m\u001b[38;5;124;43m'\u001b[39;49m\u001b[38;5;124;43mend_time\u001b[39;49m\u001b[38;5;124;43m'\u001b[39;49m\u001b[43m]\u001b[49m\n\u001b[0;32m     23\u001b[0m reminder_str \u001b[38;5;241m=\u001b[39m event[\u001b[38;5;124m'\u001b[39m\u001b[38;5;124mdate\u001b[39m\u001b[38;5;124m'\u001b[39m] \u001b[38;5;241m+\u001b[39m \u001b[38;5;124m'\u001b[39m\u001b[38;5;124m \u001b[39m\u001b[38;5;124m'\u001b[39m \u001b[38;5;241m+\u001b[39m event[\u001b[38;5;124m'\u001b[39m\u001b[38;5;124mreminder\u001b[39m\u001b[38;5;124m'\u001b[39m]\n\u001b[0;32m     25\u001b[0m \u001b[38;5;66;03m# Convert to datetime objects\u001b[39;00m\n",
      "\u001b[1;31mTypeError\u001b[0m: can only concatenate str (not \"NoneType\") to str"
     ]
    }
   ],
   "source": [
    "import json  # Import json module to read JSON file\n",
    "from icalendar import Calendar, Event, Alarm\n",
    "from datetime import datetime, timedelta\n",
    "from pytz import UTC  # This is required for the 'dt' fields in icalendar\n",
    "\n",
    "# Path to your JSON file\n",
    "json_file_path = 'events.json'\n",
    "\n",
    "# Read and load the JSON data from file\n",
    "with open(json_file_path, 'r') as file:\n",
    "    data = json.load(file)\n",
    "\n",
    "# Create an iCalendar file\n",
    "cal = Calendar()\n",
    "\n",
    "for event in data['events']:\n",
    "    # Create an event\n",
    "    ical_event = Event()\n",
    "    \n",
    "    # Correctly access the properties of each event\n",
    "    start_date_str = event['date'] + ' ' + event['start_time']\n",
    "    end_date_str = event['date'] + ' ' + event['end_time']\n",
    "    reminder_str = event['date'] + ' ' + event['reminder']\n",
    "    \n",
    "    # Convert to datetime objects\n",
    "    start_date = datetime.strptime(start_date_str, '%Y-%m-%d %H:%M').replace(tzinfo=UTC)\n",
    "    end_date = datetime.strptime(end_date_str, '%Y-%m-%d %H:%M').replace(tzinfo=UTC)\n",
    "    reminder_time = datetime.strptime(reminder_str, '%Y-%m-%d %H:%M').replace(tzinfo=UTC)\n",
    "    \n",
    "    # Calculate reminder trigger time as a timedelta before the event start\n",
    "    reminder_delta = start_date - reminder_time\n",
    "    \n",
    "    # Add details to the event\n",
    "    ical_event.add('summary', event['event'])\n",
    "    ical_event.add('dtstart', start_date)\n",
    "    ical_event.add('dtend', end_date)\n",
    "    \n",
    "    # Optional: Add location and description if available\n",
    "    if 'location' in event:\n",
    "        ical_event.add('location', event['location'])\n",
    "    if 'event_details' in event:\n",
    "        ical_event.add('description', event.get('event_details', ''))\n",
    "\n",
    "    # Create a reminder (alarm)\n",
    "    alarm = Alarm()\n",
    "    alarm.add('action', 'DISPLAY')\n",
    "    alarm.add('description', 'Reminder')\n",
    "    alarm.add('trigger', -reminder_delta)\n",
    "    \n",
    "    # Add the alarm to the event\n",
    "    ical_event.add_component(alarm)\n",
    "    \n",
    "    # Add the event to the calendar\n",
    "    cal.add_component(ical_event)\n",
    "\n",
    "# Save the iCalendar file\n",
    "file_name = 'events.ics'\n",
    "with open(file_name, 'wb') as f:\n",
    "    f.write(cal.to_ical())\n",
    "\n",
    "print(f\"iCalendar file '{file_name}' created successfully.\")"
   ]
  },
  {
   "cell_type": "markdown",
   "metadata": {},
   "source": [
    "#### **Writing the .ics file to calendar**"
   ]
  },
  {
   "cell_type": "code",
   "execution_count": null,
   "metadata": {},
   "outputs": [
    {
     "ename": "RefreshError",
     "evalue": "('invalid_grant: Bad Request', {'error': 'invalid_grant', 'error_description': 'Bad Request'})",
     "output_type": "error",
     "traceback": [
      "\u001b[1;31m---------------------------------------------------------------------------\u001b[0m",
      "\u001b[1;31mRefreshError\u001b[0m                              Traceback (most recent call last)",
      "Cell \u001b[1;32mIn[19], line 65\u001b[0m\n\u001b[0;32m     63\u001b[0m \u001b[38;5;66;03m# Initialize the Google Calendar service\u001b[39;00m\n\u001b[0;32m     64\u001b[0m google_service \u001b[38;5;241m=\u001b[39m GoogleCalendarService(\u001b[38;5;124m'\u001b[39m\u001b[38;5;124mcredential.json\u001b[39m\u001b[38;5;124m'\u001b[39m)\n\u001b[1;32m---> 65\u001b[0m \u001b[43mgoogle_service\u001b[49m\u001b[38;5;241;43m.\u001b[39;49m\u001b[43mauthenticate\u001b[49m\u001b[43m(\u001b[49m\u001b[43m)\u001b[49m\n\u001b[0;32m     66\u001b[0m add_events_to_calendar(google_service, \u001b[38;5;124m'\u001b[39m\u001b[38;5;124mevents.ics\u001b[39m\u001b[38;5;124m'\u001b[39m)\n",
      "Cell \u001b[1;32mIn[19], line 38\u001b[0m, in \u001b[0;36mGoogleCalendarService.authenticate\u001b[1;34m(self)\u001b[0m\n\u001b[0;32m     36\u001b[0m \u001b[38;5;28;01mif\u001b[39;00m \u001b[38;5;129;01mnot\u001b[39;00m creds \u001b[38;5;129;01mor\u001b[39;00m \u001b[38;5;129;01mnot\u001b[39;00m creds\u001b[38;5;241m.\u001b[39mvalid:\n\u001b[0;32m     37\u001b[0m     \u001b[38;5;28;01mif\u001b[39;00m creds \u001b[38;5;129;01mand\u001b[39;00m creds\u001b[38;5;241m.\u001b[39mexpired \u001b[38;5;129;01mand\u001b[39;00m creds\u001b[38;5;241m.\u001b[39mrefresh_token:\n\u001b[1;32m---> 38\u001b[0m         \u001b[43mcreds\u001b[49m\u001b[38;5;241;43m.\u001b[39;49m\u001b[43mrefresh\u001b[49m\u001b[43m(\u001b[49m\u001b[43mRequest\u001b[49m\u001b[43m(\u001b[49m\u001b[43m)\u001b[49m\u001b[43m)\u001b[49m\n\u001b[0;32m     39\u001b[0m     \u001b[38;5;28;01melse\u001b[39;00m:\n\u001b[0;32m     40\u001b[0m         flow \u001b[38;5;241m=\u001b[39m InstalledAppFlow\u001b[38;5;241m.\u001b[39mfrom_client_secrets_file(\u001b[38;5;28mself\u001b[39m\u001b[38;5;241m.\u001b[39mcredentials, SCOPES)\n",
      "File \u001b[1;32mc:\\Users\\Aduragbemi\\AppData\\Local\\Programs\\Python\\Python312\\Lib\\site-packages\\google\\oauth2\\credentials.py:431\u001b[0m, in \u001b[0;36mCredentials.refresh\u001b[1;34m(self, request)\u001b[0m\n\u001b[0;32m    413\u001b[0m \u001b[38;5;28;01mif\u001b[39;00m (\n\u001b[0;32m    414\u001b[0m     \u001b[38;5;28mself\u001b[39m\u001b[38;5;241m.\u001b[39m_refresh_token \u001b[38;5;129;01mis\u001b[39;00m \u001b[38;5;28;01mNone\u001b[39;00m\n\u001b[0;32m    415\u001b[0m     \u001b[38;5;129;01mor\u001b[39;00m \u001b[38;5;28mself\u001b[39m\u001b[38;5;241m.\u001b[39m_token_uri \u001b[38;5;129;01mis\u001b[39;00m \u001b[38;5;28;01mNone\u001b[39;00m\n\u001b[0;32m    416\u001b[0m     \u001b[38;5;129;01mor\u001b[39;00m \u001b[38;5;28mself\u001b[39m\u001b[38;5;241m.\u001b[39m_client_id \u001b[38;5;129;01mis\u001b[39;00m \u001b[38;5;28;01mNone\u001b[39;00m\n\u001b[0;32m    417\u001b[0m     \u001b[38;5;129;01mor\u001b[39;00m \u001b[38;5;28mself\u001b[39m\u001b[38;5;241m.\u001b[39m_client_secret \u001b[38;5;129;01mis\u001b[39;00m \u001b[38;5;28;01mNone\u001b[39;00m\n\u001b[0;32m    418\u001b[0m ):\n\u001b[0;32m    419\u001b[0m     \u001b[38;5;28;01mraise\u001b[39;00m exceptions\u001b[38;5;241m.\u001b[39mRefreshError(\n\u001b[0;32m    420\u001b[0m         \u001b[38;5;124m\"\u001b[39m\u001b[38;5;124mThe credentials do not contain the necessary fields need to \u001b[39m\u001b[38;5;124m\"\u001b[39m\n\u001b[0;32m    421\u001b[0m         \u001b[38;5;124m\"\u001b[39m\u001b[38;5;124mrefresh the access token. You must specify refresh_token, \u001b[39m\u001b[38;5;124m\"\u001b[39m\n\u001b[0;32m    422\u001b[0m         \u001b[38;5;124m\"\u001b[39m\u001b[38;5;124mtoken_uri, client_id, and client_secret.\u001b[39m\u001b[38;5;124m\"\u001b[39m\n\u001b[0;32m    423\u001b[0m     )\n\u001b[0;32m    425\u001b[0m (\n\u001b[0;32m    426\u001b[0m     access_token,\n\u001b[0;32m    427\u001b[0m     refresh_token,\n\u001b[0;32m    428\u001b[0m     expiry,\n\u001b[0;32m    429\u001b[0m     grant_response,\n\u001b[0;32m    430\u001b[0m     rapt_token,\n\u001b[1;32m--> 431\u001b[0m ) \u001b[38;5;241m=\u001b[39m \u001b[43mreauth\u001b[49m\u001b[38;5;241;43m.\u001b[39;49m\u001b[43mrefresh_grant\u001b[49m\u001b[43m(\u001b[49m\n\u001b[0;32m    432\u001b[0m \u001b[43m    \u001b[49m\u001b[43mrequest\u001b[49m\u001b[43m,\u001b[49m\n\u001b[0;32m    433\u001b[0m \u001b[43m    \u001b[49m\u001b[38;5;28;43mself\u001b[39;49m\u001b[38;5;241;43m.\u001b[39;49m\u001b[43m_token_uri\u001b[49m\u001b[43m,\u001b[49m\n\u001b[0;32m    434\u001b[0m \u001b[43m    \u001b[49m\u001b[38;5;28;43mself\u001b[39;49m\u001b[38;5;241;43m.\u001b[39;49m\u001b[43m_refresh_token\u001b[49m\u001b[43m,\u001b[49m\n\u001b[0;32m    435\u001b[0m \u001b[43m    \u001b[49m\u001b[38;5;28;43mself\u001b[39;49m\u001b[38;5;241;43m.\u001b[39;49m\u001b[43m_client_id\u001b[49m\u001b[43m,\u001b[49m\n\u001b[0;32m    436\u001b[0m \u001b[43m    \u001b[49m\u001b[38;5;28;43mself\u001b[39;49m\u001b[38;5;241;43m.\u001b[39;49m\u001b[43m_client_secret\u001b[49m\u001b[43m,\u001b[49m\n\u001b[0;32m    437\u001b[0m \u001b[43m    \u001b[49m\u001b[43mscopes\u001b[49m\u001b[38;5;241;43m=\u001b[39;49m\u001b[43mscopes\u001b[49m\u001b[43m,\u001b[49m\n\u001b[0;32m    438\u001b[0m \u001b[43m    \u001b[49m\u001b[43mrapt_token\u001b[49m\u001b[38;5;241;43m=\u001b[39;49m\u001b[38;5;28;43mself\u001b[39;49m\u001b[38;5;241;43m.\u001b[39;49m\u001b[43m_rapt_token\u001b[49m\u001b[43m,\u001b[49m\n\u001b[0;32m    439\u001b[0m \u001b[43m    \u001b[49m\u001b[43menable_reauth_refresh\u001b[49m\u001b[38;5;241;43m=\u001b[39;49m\u001b[38;5;28;43mself\u001b[39;49m\u001b[38;5;241;43m.\u001b[39;49m\u001b[43m_enable_reauth_refresh\u001b[49m\u001b[43m,\u001b[49m\n\u001b[0;32m    440\u001b[0m \u001b[43m\u001b[49m\u001b[43m)\u001b[49m\n\u001b[0;32m    442\u001b[0m \u001b[38;5;28mself\u001b[39m\u001b[38;5;241m.\u001b[39mtoken \u001b[38;5;241m=\u001b[39m access_token\n\u001b[0;32m    443\u001b[0m \u001b[38;5;28mself\u001b[39m\u001b[38;5;241m.\u001b[39mexpiry \u001b[38;5;241m=\u001b[39m expiry\n",
      "File \u001b[1;32mc:\\Users\\Aduragbemi\\AppData\\Local\\Programs\\Python\\Python312\\Lib\\site-packages\\google\\oauth2\\reauth.py:366\u001b[0m, in \u001b[0;36mrefresh_grant\u001b[1;34m(request, token_uri, refresh_token, client_id, client_secret, scopes, rapt_token, enable_reauth_refresh)\u001b[0m\n\u001b[0;32m    357\u001b[0m     (\n\u001b[0;32m    358\u001b[0m         response_status_ok,\n\u001b[0;32m    359\u001b[0m         response_data,\n\u001b[1;32m   (...)\u001b[0m\n\u001b[0;32m    362\u001b[0m         request, token_uri, body, headers\u001b[38;5;241m=\u001b[39mmetrics_header\n\u001b[0;32m    363\u001b[0m     )\n\u001b[0;32m    365\u001b[0m \u001b[38;5;28;01mif\u001b[39;00m \u001b[38;5;129;01mnot\u001b[39;00m response_status_ok:\n\u001b[1;32m--> 366\u001b[0m     \u001b[43m_client\u001b[49m\u001b[38;5;241;43m.\u001b[39;49m\u001b[43m_handle_error_response\u001b[49m\u001b[43m(\u001b[49m\u001b[43mresponse_data\u001b[49m\u001b[43m,\u001b[49m\u001b[43m \u001b[49m\u001b[43mretryable_error\u001b[49m\u001b[43m)\u001b[49m\n\u001b[0;32m    367\u001b[0m \u001b[38;5;28;01mreturn\u001b[39;00m _client\u001b[38;5;241m.\u001b[39m_handle_refresh_grant_response(response_data, refresh_token) \u001b[38;5;241m+\u001b[39m (\n\u001b[0;32m    368\u001b[0m     rapt_token,\n\u001b[0;32m    369\u001b[0m )\n",
      "File \u001b[1;32mc:\\Users\\Aduragbemi\\AppData\\Local\\Programs\\Python\\Python312\\Lib\\site-packages\\google\\oauth2\\_client.py:68\u001b[0m, in \u001b[0;36m_handle_error_response\u001b[1;34m(response_data, retryable_error)\u001b[0m\n\u001b[0;32m     65\u001b[0m \u001b[38;5;28;01mexcept\u001b[39;00m (\u001b[38;5;167;01mKeyError\u001b[39;00m, \u001b[38;5;167;01mValueError\u001b[39;00m):\n\u001b[0;32m     66\u001b[0m     error_details \u001b[38;5;241m=\u001b[39m json\u001b[38;5;241m.\u001b[39mdumps(response_data)\n\u001b[1;32m---> 68\u001b[0m \u001b[38;5;28;01mraise\u001b[39;00m exceptions\u001b[38;5;241m.\u001b[39mRefreshError(\n\u001b[0;32m     69\u001b[0m     error_details, response_data, retryable\u001b[38;5;241m=\u001b[39mretryable_error\n\u001b[0;32m     70\u001b[0m )\n",
      "\u001b[1;31mRefreshError\u001b[0m: ('invalid_grant: Bad Request', {'error': 'invalid_grant', 'error_description': 'Bad Request'})"
     ]
    }
   ],
   "source": [
    "import os\n",
    "from abc import ABC, abstractmethod\n",
    "from icalendar import Calendar\n",
    "\n",
    "# Step 1: Read and parse the ICS file\n",
    "def read_ics(file_name):\n",
    "    with open(file_name, 'r') as ics_file:\n",
    "        return Calendar.from_ical(ics_file.read())\n",
    "\n",
    "# Step 2: Define an abstract base class for calendar services\n",
    "class CalendarService(ABC):\n",
    "    def __init__(self, credentials):\n",
    "        self.credentials = credentials\n",
    "\n",
    "    @abstractmethod\n",
    "    def authenticate(self):\n",
    "        pass\n",
    "\n",
    "    @abstractmethod\n",
    "    def create_event(self, event):\n",
    "        pass\n",
    "\n",
    "# Step 3: Implement Google Calendar handler\n",
    "class GoogleCalendarService(CalendarService):\n",
    "    def authenticate(self):\n",
    "        from google.oauth2.credentials import Credentials\n",
    "        from google_auth_oauthlib.flow import InstalledAppFlow\n",
    "        from google.auth.transport.requests import Request\n",
    "        from googleapiclient.discovery import build\n",
    "\n",
    "        SCOPES = ['https://www.googleapis.com/auth/calendar']\n",
    "        \n",
    "        creds = None\n",
    "        if os.path.exists('token.json'):\n",
    "            creds = Credentials.from_authorized_user_file('token.json', SCOPES)\n",
    "        if not creds or not creds.valid:\n",
    "            if creds and creds.expired and creds.refresh_token:\n",
    "                creds.refresh(Request())\n",
    "            else:\n",
    "                flow = InstalledAppFlow.from_client_secrets_file(self.credentials, SCOPES)\n",
    "                creds = flow.run_local_server(port=0)\n",
    "            with open('token.json', 'w') as token:\n",
    "                token.write(creds.to_json())\n",
    "        \n",
    "        self.service = build('calendar', 'v3', credentials=creds)\n",
    "\n",
    "    def create_event(self, event):\n",
    "        google_event = {\n",
    "            'summary': str(event.get('summary')),\n",
    "            'start': {'dateTime': event.get('dtstart').dt.isoformat(), 'timeZone': 'UTC'},\n",
    "            'end': {'dateTime': event.get('dtend').dt.isoformat(), 'timeZone': 'UTC'}\n",
    "        }\n",
    "        self.service.events().insert(calendarId='primary', body=google_event).execute()\n",
    "\n",
    "# Step 4: General function to add events to calendar\n",
    "def add_events_to_calendar(service, ics_file_path):\n",
    "    calendar = read_ics(ics_file_path)\n",
    "    for component in calendar.walk():\n",
    "        if component.name == \"VEVENT\":\n",
    "            service.create_event(component)\n",
    "\n",
    "\n",
    "# Initialize the Google Calendar service\n",
    "google_service = GoogleCalendarService('credential.json')\n",
    "google_service.authenticate()\n",
    "add_events_to_calendar(google_service, 'events.ics')"
   ]
  }
 ],
 "metadata": {
  "kernelspec": {
   "display_name": "Python 3",
   "language": "python",
   "name": "python3"
  },
  "language_info": {
   "codemirror_mode": {
    "name": "ipython",
    "version": 3
   },
   "file_extension": ".py",
   "mimetype": "text/x-python",
   "name": "python",
   "nbconvert_exporter": "python",
   "pygments_lexer": "ipython3",
   "version": "3.12.2"
  }
 },
 "nbformat": 4,
 "nbformat_minor": 2
}
