{
 "cells": [
  {
   "cell_type": "markdown",
   "metadata": {},
   "source": [
    "### **Libraries**"
   ]
  },
  {
   "cell_type": "code",
   "execution_count": 1,
   "metadata": {},
   "outputs": [],
   "source": [
    "import os\n",
    "import openai\n",
    "from openai import OpenAI"
   ]
  },
  {
   "cell_type": "code",
   "execution_count": 2,
   "metadata": {},
   "outputs": [],
   "source": [
    "import pathlib\n",
    "import textwrap\n",
    "\n",
    "import openai\n",
    "\n",
    "from IPython.display import display\n",
    "from IPython.display import Markdown\n",
    "\n",
    "\n",
    "def to_markdown(text):\n",
    "  text = text.replace('•', '  *')\n",
    "  return Markdown(textwrap.indent(text, '> ', predicate=lambda _: True))"
   ]
  },
  {
   "cell_type": "code",
   "execution_count": 3,
   "metadata": {},
   "outputs": [],
   "source": [
    "OPENAI_API_KEY = os.getenv(\"OPENAI_API_KEY\") # OpenAI API key"
   ]
  },
  {
   "cell_type": "markdown",
   "metadata": {},
   "source": [
    "#### **Define a client**"
   ]
  },
  {
   "cell_type": "code",
   "execution_count": 4,
   "metadata": {},
   "outputs": [],
   "source": [
    "# define an instance of OpenAI model\n",
    "client = OpenAI(api_key=OPENAI_API_KEY)"
   ]
  },
  {
   "cell_type": "markdown",
   "metadata": {},
   "source": [
    "#### **Audio transcription**"
   ]
  },
  {
   "cell_type": "code",
   "execution_count": 5,
   "metadata": {},
   "outputs": [],
   "source": [
    "audio_file= open(\"longer_schedule.mp3\", \"rb\")"
   ]
  },
  {
   "cell_type": "code",
   "execution_count": 6,
   "metadata": {},
   "outputs": [],
   "source": [
    "speech_to_text = client.audio.transcriptions.create(\n",
    "    model=\"whisper-1\",\n",
    "    file=audio_file\n",
    ")"
   ]
  },
  {
   "cell_type": "code",
   "execution_count": 7,
   "metadata": {},
   "outputs": [
    {
     "data": {
      "text/markdown": [
       "> On the 2nd of July, I will be having a masterclass with Julian. While on the 7th, I will be having a synchronized learning with Sik Og. On the 14th of July, by 7pm WET, I will be having another synchronized learning. On the 21st of July, I will be having a synchronized learning between the hours of 7pm to 9pm with Sik Og Analytics. While on the 21st, I will be doing a final presentation with Sik Og Analytics between the hours of 7pm to 9pm."
      ],
      "text/plain": [
       "<IPython.core.display.Markdown object>"
      ]
     },
     "execution_count": 7,
     "metadata": {},
     "output_type": "execute_result"
    }
   ],
   "source": [
    "to_markdown(speech_to_text.text)"
   ]
  },
  {
   "cell_type": "markdown",
   "metadata": {},
   "source": [
    "### **Audio to file**"
   ]
  },
  {
   "cell_type": "markdown",
   "metadata": {},
   "source": [
    "### **Function calling**"
   ]
  },
  {
   "cell_type": "code",
   "execution_count": 8,
   "metadata": {},
   "outputs": [],
   "source": [
    "system_prompt = \"You are an assistant that creates a well crafted schedule from text. Extract all events related data from the provided text.\""
   ]
  },
  {
   "cell_type": "code",
   "execution_count": 9,
   "metadata": {},
   "outputs": [],
   "source": [
    "schedule_tool = [\n",
    "    {\n",
    "        'type': 'function',\n",
    "        'function': {\n",
    "            'name': 'schedule_events',\n",
    "            'description': 'Extract all events related data from the provided text. If there are multiple events extract all events',\n",
    "            'parameters': {\n",
    "                'type': 'object',\n",
    "                'properties': {\n",
    "                    'date': {\n",
    "                        'type': 'array',\n",
    "                        'items': {\n",
    "                            'type': 'string',\n",
    "                            'format': 'date'\n",
    "                        },\n",
    "                        'description': 'The date of the event in the format YYYY-MM-DD'\n",
    "                    },\n",
    "                    'start_time': {\n",
    "                        'type': 'array',\n",
    "                        'items': {\n",
    "                            'type': 'string',\n",
    "                            'format': 'time'\n",
    "                        },\n",
    "                        'description': 'The time of the event starts'\n",
    "                    },\n",
    "                    'end_time': {\n",
    "                        'type': 'array',\n",
    "                        'items': {\n",
    "                            'type': 'string',\n",
    "                            'format': 'time'\n",
    "                        },\n",
    "                        'description': 'The time of the event ends'\n",
    "                    },\n",
    "                    'event': {\n",
    "                        'type': 'array',\n",
    "                        'items': {\n",
    "                            'type': 'string'\n",
    "                        },\n",
    "                        'description': 'The name of the event'\n",
    "                    },\n",
    "                    'location': {\n",
    "                        'type': 'array',\n",
    "                        'items': {\n",
    "                            'type': 'string'\n",
    "                        },\n",
    "                        'description': 'The location of the event'\n",
    "                    },\n",
    "                    'description': {\n",
    "                        'type': 'array',\n",
    "                        'items': {\n",
    "                            'type': 'string'\n",
    "                        },\n",
    "                        'description': 'A description of the event'\n",
    "                    },\n",
    "                    'reminder': {\n",
    "                        'type': 'array',\n",
    "                        'items': {\n",
    "                            'type': 'string',\n",
    "                            'format': 'duration'\n",
    "                        },\n",
    "                        'description': 'The time before the event to send a reminder'\n",
    "                    }\n",
    "                },\n",
    "                'required': ['date', 'start_time', 'end_time', 'event']\n",
    "            }\n",
    "        }\n",
    "    }\n",
    "]\n"
   ]
  },
  {
   "cell_type": "markdown",
   "metadata": {},
   "source": [
    "#### **Calendar file creation**"
   ]
  },
  {
   "cell_type": "code",
   "execution_count": 10,
   "metadata": {},
   "outputs": [],
   "source": [
    "query = \"\"\"\n",
    "On the 2nd of July, I will be having a masterclass with Julian between the hours of 3:00 PM and 4:00 PM WAT. While on the 7th, \\\n",
    "I will be having a synchronized learning with Sik Og. On the 14th of July, by 7pm WET, \\\n",
    "I will be having another synchronized learning. On the 21st of July, I will be having a synchronized \\\n",
    "learning between the hours of 7pm to 9pm with Sik Og Analytics. While on the 21st, I will be doing a final \\\n",
    "presentation with Sik Og Analytics between the hours of 7pm to 9pm.\n",
    "\"\"\""
   ]
  },
  {
   "cell_type": "code",
   "execution_count": 11,
   "metadata": {},
   "outputs": [],
   "source": [
    "user_prompt = f\"From the text {query} create a calendar-like structure.\"\n",
    "\n",
    "calendar_file = client.chat.completions.create(\n",
    "    model='gpt-4o',\n",
    "    messages=[\n",
    "        {'role': 'user', 'content': user_prompt}\n",
    "    ],\n",
    "    tools=schedule_tool,\n",
    "    tool_choice='required',\n",
    "    temperature=0.3\n",
    ")"
   ]
  },
  {
   "cell_type": "code",
   "execution_count": 12,
   "metadata": {},
   "outputs": [
    {
     "name": "stdout",
     "output_type": "stream",
     "text": [
      "ChatCompletion(id='chatcmpl-9iJnkkkxbBIALyapJIJL2AXqYXAER', choices=[Choice(finish_reason='stop', index=0, logprobs=None, message=ChatCompletionMessage(content=None, role='assistant', function_call=None, tool_calls=[ChatCompletionMessageToolCall(id='call_GRBIBKw57TcdNhPbmVpUraFY', function=Function(arguments='{\"date\": [\"2023-07-02\"], \"start_time\": [\"15:00\"], \"end_time\": [\"16:00\"], \"event\": [\"Masterclass with Julian\"], \"location\": [], \"description\": [], \"reminder\": []}', name='schedule_events'), type='function'), ChatCompletionMessageToolCall(id='call_9hIsSn4UOjaOG8apWas9AMfK', function=Function(arguments='{\"date\": [\"2023-07-07\"], \"start_time\": [\"00:00\"], \"end_time\": [\"23:59\"], \"event\": [\"Synchronized Learning with Sik Og\"], \"location\": [], \"description\": [], \"reminder\": []}', name='schedule_events'), type='function'), ChatCompletionMessageToolCall(id='call_MXLdtRa9YO1GKF1pHqZp7eQP', function=Function(arguments='{\"date\": [\"2023-07-14\"], \"start_time\": [\"19:00\"], \"end_time\": [\"20:00\"], \"event\": [\"Synchronized Learning\"], \"location\": [], \"description\": [], \"reminder\": []}', name='schedule_events'), type='function'), ChatCompletionMessageToolCall(id='call_wSoy29bfpVpnp1y95rmy5kbu', function=Function(arguments='{\"date\": [\"2023-07-21\"], \"start_time\": [\"19:00\"], \"end_time\": [\"21:00\"], \"event\": [\"Synchronized Learning with Sik Og Analytics\"], \"location\": [], \"description\": [], \"reminder\": []}', name='schedule_events'), type='function'), ChatCompletionMessageToolCall(id='call_o3xyMDn4LmOB4ZG9SJLn7hd5', function=Function(arguments='{\"date\": [\"2023-07-21\"], \"start_time\": [\"19:00\"], \"end_time\": [\"21:00\"], \"event\": [\"Final Presentation with Sik Og Analytics\"], \"location\": [], \"description\": [], \"reminder\": []}', name='schedule_events'), type='function')]))], created=1720349576, model='gpt-4o-2024-05-13', object='chat.completion', service_tier=None, system_fingerprint='fp_ce0793330f', usage=CompletionUsage(completion_tokens=290, prompt_tokens=325, total_tokens=615))\n"
     ]
    }
   ],
   "source": [
    "print(calendar_file)"
   ]
  },
  {
   "cell_type": "code",
   "execution_count": 13,
   "metadata": {},
   "outputs": [
    {
     "name": "stdout",
     "output_type": "stream",
     "text": [
      "called the function: schedule_events\n"
     ]
    },
    {
     "data": {
      "text/markdown": [
       "> {\"date\": [\"2023-07-02\"], \"start_time\": [\"15:00\"], \"end_time\": [\"16:00\"], \"event\": [\"Masterclass with Julian\"], \"location\": [], \"description\": [], \"reminder\": []}"
      ],
      "text/plain": [
       "<IPython.core.display.Markdown object>"
      ]
     },
     "execution_count": 13,
     "metadata": {},
     "output_type": "execute_result"
    }
   ],
   "source": [
    "if(calendar_file.choices[0].message.tool_calls):\n",
    "  #If tool call was invoked extract the name of the specific function used\n",
    "  function_name = calendar_file.choices[0].message.tool_calls[0].function.name\n",
    "  #Print the name of the function called\n",
    "  print(\"called the function: \" + function_name)\n",
    "  # Extract response to user query\n",
    "  result = calendar_file.choices[0].message.tool_calls[0].function.arguments\n",
    "else:\n",
    "  print(\"didn't call a function\")\n",
    "  result = calendar_file.choices[0].message.content\n",
    "  \n",
    "to_markdown(result)"
   ]
  },
  {
   "cell_type": "code",
   "execution_count": 14,
   "metadata": {},
   "outputs": [],
   "source": [
    "import json"
   ]
  },
  {
   "cell_type": "code",
   "execution_count": 15,
   "metadata": {},
   "outputs": [],
   "source": [
    "\n",
    "# Define the file path\n",
    "json_file_path = 'events.json'\n",
    "\n",
    "# Write the result to the JSON file\n",
    "with open(json_file_path, 'w') as file:\n",
    "    json.dump(result, file)"
   ]
  },
  {
   "cell_type": "code",
   "execution_count": 16,
   "metadata": {},
   "outputs": [
    {
     "name": "stdout",
     "output_type": "stream",
     "text": [
      "{\"date\": [\"2023-07-02\"], \"start_time\": [\"15:00\"], \"end_time\": [\"16:00\"], \"event\": [\"Masterclass with Julian\"], \"location\": [], \"description\": [], \"reminder\": []}\n"
     ]
    }
   ],
   "source": [
    "with open('events.json', 'r') as file:\n",
    "    data = json.load(file)\n",
    "\n",
    "print(data)"
   ]
  },
  {
   "cell_type": "code",
   "execution_count": 17,
   "metadata": {},
   "outputs": [
    {
     "ename": "TypeError",
     "evalue": "string indices must be integers, not 'str'",
     "output_type": "error",
     "traceback": [
      "\u001b[1;31m---------------------------------------------------------------------------\u001b[0m",
      "\u001b[1;31mTypeError\u001b[0m                                 Traceback (most recent call last)",
      "Cell \u001b[1;32mIn[17], line 30\u001b[0m\n\u001b[0;32m     27\u001b[0m json_file_path \u001b[38;5;241m=\u001b[39m \u001b[38;5;124m'\u001b[39m\u001b[38;5;124mevents.json\u001b[39m\u001b[38;5;124m'\u001b[39m  \u001b[38;5;66;03m# Path to your JSON file\u001b[39;00m\n\u001b[0;32m     28\u001b[0m ics_file_path \u001b[38;5;241m=\u001b[39m \u001b[38;5;124m'\u001b[39m\u001b[38;5;124mevents.ics\u001b[39m\u001b[38;5;124m'\u001b[39m    \u001b[38;5;66;03m# Path where the ICS file will be saved\u001b[39;00m\n\u001b[1;32m---> 30\u001b[0m \u001b[43mjson_to_ics\u001b[49m\u001b[43m(\u001b[49m\u001b[43mjson_file_path\u001b[49m\u001b[43m,\u001b[49m\u001b[43m \u001b[49m\u001b[43mics_file_path\u001b[49m\u001b[43m)\u001b[49m\n",
      "Cell \u001b[1;32mIn[17], line 12\u001b[0m, in \u001b[0;36mjson_to_ics\u001b[1;34m(json_file_path, ics_file_path)\u001b[0m\n\u001b[0;32m      9\u001b[0m calendar \u001b[38;5;241m=\u001b[39m Calendar()\n\u001b[0;32m     11\u001b[0m \u001b[38;5;66;03m# Iterate through each event in the JSON data\u001b[39;00m\n\u001b[1;32m---> 12\u001b[0m \u001b[38;5;28;01mfor\u001b[39;00m event_data \u001b[38;5;129;01min\u001b[39;00m \u001b[43mdata\u001b[49m\u001b[43m[\u001b[49m\u001b[38;5;124;43m'\u001b[39;49m\u001b[38;5;124;43mevents\u001b[39;49m\u001b[38;5;124;43m'\u001b[39;49m\u001b[43m]\u001b[49m:\n\u001b[0;32m     13\u001b[0m     event \u001b[38;5;241m=\u001b[39m Event()\n\u001b[0;32m     14\u001b[0m     event\u001b[38;5;241m.\u001b[39mname \u001b[38;5;241m=\u001b[39m event_data\u001b[38;5;241m.\u001b[39mget(\u001b[38;5;124m'\u001b[39m\u001b[38;5;124mname\u001b[39m\u001b[38;5;124m'\u001b[39m, \u001b[38;5;124m'\u001b[39m\u001b[38;5;124mNo Title\u001b[39m\u001b[38;5;124m'\u001b[39m)\n",
      "\u001b[1;31mTypeError\u001b[0m: string indices must be integers, not 'str'"
     ]
    }
   ],
   "source": [
    "from ics import Calendar, Event\n",
    "\n",
    "def json_to_ics(json_file_path, ics_file_path):\n",
    "    # Load JSON data\n",
    "    with open(json_file_path, 'r') as file:\n",
    "        data = json.load(file)\n",
    "\n",
    "    # Create a new calendar\n",
    "    calendar = Calendar()\n",
    "\n",
    "    # Iterate through each event in the JSON data\n",
    "    for event_data in data['events']:\n",
    "        event = Event()\n",
    "        event.name = event_data.get('name', 'No Title')\n",
    "        event.begin = event_data['start']\n",
    "        event.end = event_data.get('end', event_data['start'])\n",
    "        event.location = event_data.get('location', '')\n",
    "        event.description = event_data.get('description', '')\n",
    "        \n",
    "        calendar.events.add(event)\n",
    "\n",
    "    # Write the calendar to an .ics file\n",
    "    with open(ics_file_path, 'w') as file:\n",
    "        file.writelines(str(calendar))\n",
    "\n",
    "# Example usage\n",
    "json_file_path = 'events.json'  # Path to your JSON file\n",
    "ics_file_path = 'events.ics'    # Path where the ICS file will be saved\n",
    "\n",
    "json_to_ics(json_file_path, ics_file_path)"
   ]
  },
  {
   "cell_type": "code",
   "execution_count": null,
   "metadata": {},
   "outputs": [
    {
     "ename": "TypeError",
     "evalue": "string indices must be integers, not 'str'",
     "output_type": "error",
     "traceback": [
      "\u001b[1;31m---------------------------------------------------------------------------\u001b[0m",
      "\u001b[1;31mTypeError\u001b[0m                                 Traceback (most recent call last)",
      "Cell \u001b[1;32mIn[49], line 33\u001b[0m\n\u001b[0;32m     31\u001b[0m json_file_path \u001b[38;5;241m=\u001b[39m \u001b[38;5;124m'\u001b[39m\u001b[38;5;124mevents.json\u001b[39m\u001b[38;5;124m'\u001b[39m\n\u001b[0;32m     32\u001b[0m ics_file_path \u001b[38;5;241m=\u001b[39m \u001b[38;5;124m'\u001b[39m\u001b[38;5;124mevents.ics\u001b[39m\u001b[38;5;124m'\u001b[39m\n\u001b[1;32m---> 33\u001b[0m \u001b[43mjson_to_ics\u001b[49m\u001b[43m(\u001b[49m\u001b[43mjson_file_path\u001b[49m\u001b[43m,\u001b[49m\u001b[43m \u001b[49m\u001b[43mics_file_path\u001b[49m\u001b[43m)\u001b[49m\n",
      "Cell \u001b[1;32mIn[49], line 15\u001b[0m, in \u001b[0;36mjson_to_ics\u001b[1;34m(json_file_path, ics_file_path)\u001b[0m\n\u001b[0;32m     13\u001b[0m \u001b[38;5;66;03m# Assuming the JSON structure is a single event\u001b[39;00m\n\u001b[0;32m     14\u001b[0m event \u001b[38;5;241m=\u001b[39m Event()\n\u001b[1;32m---> 15\u001b[0m event\u001b[38;5;241m.\u001b[39mname \u001b[38;5;241m=\u001b[39m \u001b[43mdata\u001b[49m\u001b[43m[\u001b[49m\u001b[38;5;124;43m'\u001b[39;49m\u001b[38;5;124;43mevent\u001b[39;49m\u001b[38;5;124;43m'\u001b[39;49m\u001b[43m]\u001b[49m\n\u001b[0;32m     16\u001b[0m \u001b[38;5;66;03m# Combine date and start_time for the event start\u001b[39;00m\n\u001b[0;32m     17\u001b[0m start_datetime_str \u001b[38;5;241m=\u001b[39m \u001b[38;5;124mf\u001b[39m\u001b[38;5;124m\"\u001b[39m\u001b[38;5;132;01m{\u001b[39;00mdata[\u001b[38;5;124m'\u001b[39m\u001b[38;5;124mdate\u001b[39m\u001b[38;5;124m'\u001b[39m]\u001b[38;5;132;01m}\u001b[39;00m\u001b[38;5;124m \u001b[39m\u001b[38;5;132;01m{\u001b[39;00mdata[\u001b[38;5;124m'\u001b[39m\u001b[38;5;124mstart_time\u001b[39m\u001b[38;5;124m'\u001b[39m]\u001b[38;5;132;01m}\u001b[39;00m\u001b[38;5;124m\"\u001b[39m\n",
      "\u001b[1;31mTypeError\u001b[0m: string indices must be integers, not 'str'"
     ]
    }
   ],
   "source": [
    "import json\n",
    "from ics import Calendar, Event\n",
    "from datetime import datetime, timedelta\n",
    "\n",
    "def json_to_ics(json_file_path, ics_file_path):\n",
    "    # Step 1: Read the JSON file\n",
    "    with open(json_file_path, 'r') as file:\n",
    "        data = json.load(file)\n",
    "    \n",
    "    # Step 2: Create a new calendar\n",
    "    calendar = Calendar()\n",
    "    \n",
    "    # Assuming the JSON structure is a single event\n",
    "    event = Event()\n",
    "    event.name = data['event']\n",
    "    # Combine date and start_time for the event start\n",
    "    start_datetime_str = f\"{data['date']} {data['start_time']}\"\n",
    "    # Assuming the event duration is 1 hour for demonstration\n",
    "    end_datetime = datetime.strptime(start_datetime_str, \"%Y-%m-%d %H:%M\") + timedelta(hours=1)\n",
    "    event.begin = start_datetime_str\n",
    "    event.end = end_datetime.strftime(\"%Y-%m-%d %H:%M\")\n",
    "    event.description = data.get('description', '')\n",
    "    # Add the event to the calendar\n",
    "    calendar.events.add(event)\n",
    "    \n",
    "    # Step 4: Write to an ICS file\n",
    "    with open(ics_file_path, 'w') as file:\n",
    "        file.writelines(str(calendar))\n",
    "\n",
    "# Example usage\n",
    "json_file_path = 'events.json'\n",
    "ics_file_path = 'events.ics'\n",
    "json_to_ics(json_file_path, ics_file_path)"
   ]
  }
 ],
 "metadata": {
  "kernelspec": {
   "display_name": "Python 3",
   "language": "python",
   "name": "python3"
  },
  "language_info": {
   "codemirror_mode": {
    "name": "ipython",
    "version": 3
   },
   "file_extension": ".py",
   "mimetype": "text/x-python",
   "name": "python",
   "nbconvert_exporter": "python",
   "pygments_lexer": "ipython3",
   "version": "3.12.2"
  }
 },
 "nbformat": 4,
 "nbformat_minor": 2
}
