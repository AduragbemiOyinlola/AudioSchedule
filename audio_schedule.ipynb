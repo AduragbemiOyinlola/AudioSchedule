{
 "cells": [
  {
   "cell_type": "markdown",
   "metadata": {},
   "source": [
    "### **Libraries**\n",
    "\n",
    "Some of the needed libraries for this project."
   ]
  },
  {
   "cell_type": "code",
   "execution_count": 1,
   "metadata": {},
   "outputs": [],
   "source": [
    "import os\n",
    "import openai\n",
    "from openai import OpenAI"
   ]
  },
  {
   "cell_type": "code",
   "execution_count": 2,
   "metadata": {},
   "outputs": [],
   "source": [
    "import pathlib\n",
    "import textwrap\n",
    "\n",
    "from IPython.display import display\n",
    "from IPython.display import Markdown\n",
    "\n",
    "\n",
    "def to_markdown(text):\n",
    "  text = text.replace('•', '  *')\n",
    "  return Markdown(textwrap.indent(text, '> ', predicate=lambda _: True))"
   ]
  },
  {
   "cell_type": "code",
   "execution_count": 3,
   "metadata": {},
   "outputs": [],
   "source": [
    "OPENAI_API_KEY = os.getenv(\"OPENAI_API_KEY\") # OpenAI API key"
   ]
  },
  {
   "cell_type": "markdown",
   "metadata": {},
   "source": [
    "#### **Define a client**\n",
    "\n",
    "Created an instance of the OpenAI model"
   ]
  },
  {
   "cell_type": "code",
   "execution_count": 4,
   "metadata": {},
   "outputs": [],
   "source": [
    "# define an instance of OpenAI model\n",
    "client = OpenAI(api_key=OPENAI_API_KEY)"
   ]
  },
  {
   "cell_type": "markdown",
   "metadata": {},
   "source": [
    "#### **Audio transcription**\n",
    "\n",
    "Transcribed the audio file."
   ]
  },
  {
   "cell_type": "code",
   "execution_count": 5,
   "metadata": {},
   "outputs": [],
   "source": [
    "audio_file= open(\"longer_schedule.mp3\", \"rb\")"
   ]
  },
  {
   "cell_type": "code",
   "execution_count": 6,
   "metadata": {},
   "outputs": [],
   "source": [
    "speech_to_text = client.audio.transcriptions.create(\n",
    "    model=\"whisper-1\",\n",
    "    file=audio_file\n",
    ")"
   ]
  },
  {
   "cell_type": "code",
   "execution_count": 7,
   "metadata": {},
   "outputs": [
    {
     "data": {
      "text/markdown": [
       "> On the 2nd of July, I will be having a masterclass with Julian. While on the 7th, I will be having a synchronized learning with Sik Og. On the 14th of July, by 7pm WET, I will be having another synchronized learning. On the 21st of July, I will be having a synchronized learning between the hours of 7pm to 9pm with Sik Og Analytics. While on the 21st, I will be doing a final presentation with Sik Og Analytics between the hours of 7pm to 9pm."
      ],
      "text/plain": [
       "<IPython.core.display.Markdown object>"
      ]
     },
     "execution_count": 7,
     "metadata": {},
     "output_type": "execute_result"
    }
   ],
   "source": [
    "to_markdown(speech_to_text.text)"
   ]
  },
  {
   "cell_type": "markdown",
   "metadata": {},
   "source": [
    "### **Function calling**\n",
    "\n",
    "Function to extract all event related data from the provided text."
   ]
  },
  {
   "cell_type": "code",
   "execution_count": 8,
   "metadata": {},
   "outputs": [],
   "source": [
    "system_prompt = \"\"\"\n",
    "You are an assistant that creates a well crafted schedule from text. \n",
    "Extract all events related data from the provided text.\n",
    "\"\"\""
   ]
  },
  {
   "cell_type": "code",
   "execution_count": 9,
   "metadata": {},
   "outputs": [],
   "source": [
    "schedule_tool = [\n",
    "    {\n",
    "        'type': 'function',\n",
    "        'function': {\n",
    "            'name': 'schedule_events',\n",
    "            'description': 'Extract all events related data from the provided text. If there are multiple events extract all events',\n",
    "            'parameters': {\n",
    "                'type': 'object',\n",
    "                'properties': {\n",
    "                    'date': {\n",
    "                        'type': 'array',\n",
    "                        'items': {\n",
    "                            'type': 'string',\n",
    "                            'format': 'date'\n",
    "                        },\n",
    "                        'description': 'A list containing the date of every event in the format YYYY-MM-DD'\n",
    "                    },\n",
    "                    'start_time': {\n",
    "                        'type': 'array',\n",
    "                        'items': {\n",
    "                            'type': 'string',\n",
    "                            'format': 'time'\n",
    "                        },\n",
    "                        'description': 'The time of the event starts'\n",
    "                    },\n",
    "                    'end_time': {\n",
    "                        'type': 'array',\n",
    "                        'items': {\n",
    "                            'type': 'string',\n",
    "                            'format': 'time'\n",
    "                        },\n",
    "                        'description': 'The time of the event ends'\n",
    "                    },\n",
    "                    'event': {\n",
    "                        'type': 'array',\n",
    "                        'items': {\n",
    "                            'type': 'string'\n",
    "                        },\n",
    "                        'description': 'The name of the event'\n",
    "                    },\n",
    "                    'location': {\n",
    "                        'type': 'array',\n",
    "                        'items': {\n",
    "                            'type': 'string'\n",
    "                        },\n",
    "                        'description': 'The location of the event'\n",
    "                    },\n",
    "                    'event_details': {\n",
    "                        'type': 'array',\n",
    "                        'items': {\n",
    "                            'type': 'string'\n",
    "                        },\n",
    "                        'description': 'A description of the event'\n",
    "                    },\n",
    "                    'reminder': {\n",
    "                        'type': 'array',\n",
    "                        'items': {\n",
    "                            'type': 'string',\n",
    "                            'format': 'time'\n",
    "                        },\n",
    "                        'description': 'The time before the event to send a reminder'\n",
    "                    }\n",
    "                },\n",
    "                'required': ['date', 'start_time', 'end_time', 'event']\n",
    "            }\n",
    "        },\n",
    "        'instruction': system_prompt\n",
    "    }\n",
    "]\n"
   ]
  },
  {
   "cell_type": "markdown",
   "metadata": {},
   "source": [
    "#### **Calendar file creation**\n",
    "\n",
    "Extraction of event data."
   ]
  },
  {
   "cell_type": "code",
   "execution_count": 10,
   "metadata": {},
   "outputs": [],
   "source": [
    "#text to extract events from\n",
    "query = \"\"\"\n",
    "On the 2nd of July, I will be having a masterclass with Julian between the hours of 3:00 PM and 4:00 PM WAT. While on the 7th, \\\n",
    "I will be having a synchronized learning with Sik Og. On the 14th of July, by 7pm WET, \\\n",
    "I will be having another synchronized learning. On the 21st of July, I will be having a synchronized \\\n",
    "learning between the hours of 7pm to 9pm with Sik Og Analytics. While on the 21st, I will be doing a final \\\n",
    "presentation with Sik Og Analytics between the hours of 7pm to 9pm.\n",
    "\"\"\""
   ]
  },
  {
   "cell_type": "code",
   "execution_count": 11,
   "metadata": {},
   "outputs": [],
   "source": [
    "# user prompt\n",
    "user_prompt = f\"From the text {query} create a calendar-like structure.\"\n",
    "\n",
    "calendar_file = client.chat.completions.create(\n",
    "    model='gpt-4o',\n",
    "    messages=[\n",
    "        {'role': 'user', 'content': user_prompt}\n",
    "    ],\n",
    "    tools=schedule_tool,\n",
    "    tool_choice='required',\n",
    "    temperature=0.3\n",
    ")"
   ]
  },
  {
   "cell_type": "code",
   "execution_count": 12,
   "metadata": {},
   "outputs": [
    {
     "name": "stdout",
     "output_type": "stream",
     "text": [
      "ChatCompletion(id='chatcmpl-9iKpK3Yt9hq0P43pMAgnrsKbO1dxT', choices=[Choice(finish_reason='stop', index=0, logprobs=None, message=ChatCompletionMessage(content=None, role='assistant', function_call=None, tool_calls=[ChatCompletionMessageToolCall(id='call_WWKNSj1Crlrr0Jtct0vjXRHI', function=Function(arguments='{\"date\": [\"2023-07-02\"], \"start_time\": [\"15:00\"], \"end_time\": [\"16:00\"], \"event\": [\"Masterclass with Julian\"], \"location\": [], \"event_details\": [], \"reminder\": []}', name='schedule_events'), type='function'), ChatCompletionMessageToolCall(id='call_hxDu4tmdLdJwEoLxQwO2BJ1Y', function=Function(arguments='{\"date\": [\"2023-07-07\"], \"start_time\": [\"00:00\"], \"end_time\": [\"23:59\"], \"event\": [\"Synchronized learning with Sik Og\"], \"location\": [], \"event_details\": [], \"reminder\": []}', name='schedule_events'), type='function'), ChatCompletionMessageToolCall(id='call_2VxAF9Lpph8DzzJJVu3UBR8x', function=Function(arguments='{\"date\": [\"2023-07-14\"], \"start_time\": [\"19:00\"], \"end_time\": [\"20:00\"], \"event\": [\"Synchronized learning\"], \"location\": [], \"event_details\": [], \"reminder\": []}', name='schedule_events'), type='function'), ChatCompletionMessageToolCall(id='call_MvW8uI9N3j5YHx72dD18JfZk', function=Function(arguments='{\"date\": [\"2023-07-21\"], \"start_time\": [\"19:00\"], \"end_time\": [\"21:00\"], \"event\": [\"Synchronized learning with Sik Og Analytics\"], \"location\": [], \"event_details\": [], \"reminder\": []}', name='schedule_events'), type='function'), ChatCompletionMessageToolCall(id='call_fB22I4i4YyVItKLxrEZjAEf2', function=Function(arguments='{\"date\": [\"2023-07-21\"], \"start_time\": [\"19:00\"], \"end_time\": [\"21:00\"], \"event\": [\"Final presentation with Sik Og Analytics\"], \"location\": [], \"event_details\": [], \"reminder\": []}', name='schedule_events'), type='function')]))], created=1720353518, model='gpt-4o-2024-05-13', object='chat.completion', service_tier=None, system_fingerprint='fp_d576307f90', usage=CompletionUsage(completion_tokens=295, prompt_tokens=326, total_tokens=621))\n"
     ]
    }
   ],
   "source": [
    "print(calendar_file)"
   ]
  },
  {
   "cell_type": "code",
   "execution_count": 13,
   "metadata": {},
   "outputs": [
    {
     "data": {
      "text/markdown": [
       "> {\"date\": [\"2023-07-02\"], \"start_time\": [\"15:00\"], \"end_time\": [\"16:00\"], \"event\": [\"Masterclass with Julian\"], \"location\": [], \"event_details\": [], \"reminder\": []}"
      ],
      "text/plain": [
       "<IPython.core.display.Markdown object>"
      ]
     },
     "execution_count": 13,
     "metadata": {},
     "output_type": "execute_result"
    }
   ],
   "source": [
    "if(calendar_file.choices[0].message.tool_calls):\n",
    "  #If tool call was invoked extract the name of the specific function used\n",
    "  function_name = calendar_file.choices[0].message.tool_calls[0].function.name\n",
    "  #Print the name of the function called\n",
    "  #print(\"called the function: \" + function_name)\n",
    "  # Extract response to user query\n",
    "  result = calendar_file.choices[0].message.tool_calls[0].function.arguments\n",
    "else:\n",
    "  print(\"didn't call a function\")\n",
    "  result = calendar_file.choices[0].message.content\n",
    "  \n",
    "to_markdown(result)"
   ]
  },
  {
   "cell_type": "markdown",
   "metadata": {},
   "source": [
    "#### **String output to JSON file**"
   ]
  },
  {
   "cell_type": "code",
   "execution_count": 14,
   "metadata": {},
   "outputs": [],
   "source": [
    "# Used to create a JSON file\n",
    "import json"
   ]
  },
  {
   "cell_type": "code",
   "execution_count": 15,
   "metadata": {},
   "outputs": [],
   "source": [
    "# converts string to dictionary\n",
    "result_dict = json.loads(result)"
   ]
  },
  {
   "cell_type": "code",
   "execution_count": 16,
   "metadata": {},
   "outputs": [
    {
     "name": "stdout",
     "output_type": "stream",
     "text": [
      "{'events': [{'date': ['2023-07-02'], 'start_time': ['15:00'], 'end_time': ['16:00'], 'event': ['Masterclass with Julian'], 'location': [], 'event_details': [], 'reminder': []}]}\n"
     ]
    }
   ],
   "source": [
    "# \n",
    "events_dict = {}\n",
    "# added the extracted events to the dictionary\n",
    "events_dict['events'] = [result_dict]\n",
    "print(events_dict)\n"
   ]
  },
  {
   "cell_type": "code",
   "execution_count": 17,
   "metadata": {},
   "outputs": [],
   "source": [
    "\n",
    "# Define the file path\n",
    "json_file_path = 'events.json'\n",
    "\n",
    "# Write the result to the JSON file\n",
    "with open(json_file_path, 'w') as file:\n",
    "    json.dump(events_dict, file, indent=4)"
   ]
  },
  {
   "cell_type": "markdown",
   "metadata": {},
   "source": [
    "#### **JSON file to .ics file**"
   ]
  },
  {
   "cell_type": "code",
   "execution_count": 20,
   "metadata": {},
   "outputs": [
    {
     "name": "stdout",
     "output_type": "stream",
     "text": [
      "iCalendar file 'events.ics' created successfully.\n"
     ]
    }
   ],
   "source": [
    "from icalendar import Calendar, Event\n",
    "from datetime import datetime\n",
    "from pytz import UTC  # This is required for the 'dt' fields in icalendar\n",
    "\n",
    "# Path to your JSON file\n",
    "json_file_path = 'events.json'\n",
    "\n",
    "# Read and load the JSON data from file\n",
    "with open(json_file_path, 'r') as file:\n",
    "    data = json.load(file)\n",
    "\n",
    "# Create an iCalendar file\n",
    "cal = Calendar()\n",
    "\n",
    "for event in data['events']:\n",
    "    # Create an event\n",
    "    ical_event = Event()\n",
    "    \n",
    "    # Assuming the first item in each list is the relevant one\n",
    "    start_date_str = event['date'][0] + ' ' + event['start_time'][0]\n",
    "    end_date_str = event['date'][0] + ' ' + event['end_time'][0]\n",
    "    \n",
    "    # Convert to datetime objects\n",
    "    start_date = datetime.strptime(start_date_str, '%Y-%m-%d %H:%M').replace(tzinfo=UTC)\n",
    "    end_date = datetime.strptime(end_date_str, '%Y-%m-%d %H:%M').replace(tzinfo=UTC)\n",
    "    \n",
    "    # Add details to the event\n",
    "    ical_event.add('summary', event['event'][0])\n",
    "    ical_event.add('dtstart', start_date)\n",
    "    ical_event.add('dtend', end_date)\n",
    "    \n",
    "    # Optional: Add location and description if available\n",
    "    if event['location']:\n",
    "        ical_event.add('location', event['location'][0])\n",
    "    if event['event_details']:\n",
    "        ical_event.add('description', event['event_details'][0])\n",
    "    \n",
    "    # Add the event to the calendar\n",
    "    cal.add_component(ical_event)\n",
    "\n",
    "# Save the iCalendar file\n",
    "file_name = 'events.ics'\n",
    "with open(file_name, 'wb') as f:\n",
    "    f.write(cal.to_ical())\n",
    "\n",
    "print(f\"iCalendar file '{file_name}' created successfully.\")"
   ]
  },
  {
   "cell_type": "markdown",
   "metadata": {},
   "source": []
  }
 ],
 "metadata": {
  "kernelspec": {
   "display_name": "Python 3",
   "language": "python",
   "name": "python3"
  },
  "language_info": {
   "codemirror_mode": {
    "name": "ipython",
    "version": 3
   },
   "file_extension": ".py",
   "mimetype": "text/x-python",
   "name": "python",
   "nbconvert_exporter": "python",
   "pygments_lexer": "ipython3",
   "version": "3.12.2"
  }
 },
 "nbformat": 4,
 "nbformat_minor": 2
}
