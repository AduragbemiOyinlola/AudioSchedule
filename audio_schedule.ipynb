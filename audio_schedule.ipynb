{
 "cells": [
  {
   "cell_type": "markdown",
   "metadata": {},
   "source": [
    "### **Libraries**\n",
    "\n",
    "Some of the needed libraries for this project."
   ]
  },
  {
   "cell_type": "code",
   "execution_count": 1,
   "metadata": {},
   "outputs": [],
   "source": [
    "import os\n",
    "import openai\n",
    "from openai import OpenAI"
   ]
  },
  {
   "cell_type": "code",
   "execution_count": 2,
   "metadata": {},
   "outputs": [],
   "source": [
    "import pathlib\n",
    "import textwrap\n",
    "\n",
    "from IPython.display import display\n",
    "from IPython.display import Markdown\n",
    "\n",
    "\n",
    "def to_markdown(text):\n",
    "  text = text.replace('•', '  *')\n",
    "  return Markdown(textwrap.indent(text, '> ', predicate=lambda _: True))"
   ]
  },
  {
   "cell_type": "code",
   "execution_count": 3,
   "metadata": {},
   "outputs": [],
   "source": [
    "OPENAI_API_KEY = os.getenv(\"OPENAI_API_KEY\") # OpenAI API key"
   ]
  },
  {
   "cell_type": "markdown",
   "metadata": {},
   "source": [
    "#### **Define a client**\n",
    "\n",
    "Created an instance of the OpenAI model"
   ]
  },
  {
   "cell_type": "code",
   "execution_count": 4,
   "metadata": {},
   "outputs": [],
   "source": [
    "# define an instance of OpenAI model\n",
    "client = OpenAI(api_key=OPENAI_API_KEY)"
   ]
  },
  {
   "cell_type": "markdown",
   "metadata": {},
   "source": [
    "#### **Audio transcription**\n",
    "\n",
    "Transcribed the audio file."
   ]
  },
  {
   "cell_type": "code",
   "execution_count": 5,
   "metadata": {},
   "outputs": [],
   "source": [
    "audio_file= open(\"multiple.mp3\", \"rb\")"
   ]
  },
  {
   "cell_type": "code",
   "execution_count": 6,
   "metadata": {},
   "outputs": [],
   "source": [
    "speech_to_text = client.audio.transcriptions.create(\n",
    "    model=\"whisper-1\",\n",
    "    file=audio_file\n",
    ")"
   ]
  },
  {
   "cell_type": "code",
   "execution_count": 7,
   "metadata": {},
   "outputs": [
    {
     "data": {
      "text/markdown": [
       "> On the 21st of July 2024, I'll be having a meeting with Alex, which will start by 7 p.m. and end by 8 p.m. The event will take place on Google Meet. Set the reminder for 15 minutes. And on the 28th of July 2024, I'll have another meeting with Adam by 3 p.m. and it will end by 4 p.m. The event is going to take place on Google Meet. Set the reminder for 10 minutes."
      ],
      "text/plain": [
       "<IPython.core.display.Markdown object>"
      ]
     },
     "execution_count": 7,
     "metadata": {},
     "output_type": "execute_result"
    }
   ],
   "source": [
    "to_markdown(speech_to_text.text)"
   ]
  },
  {
   "cell_type": "markdown",
   "metadata": {},
   "source": [
    "### **Conversational chat**\n",
    "\n",
    "Using conversational chat to extract event related data."
   ]
  },
  {
   "cell_type": "code",
   "execution_count": 8,
   "metadata": {},
   "outputs": [],
   "source": [
    "system_prompt = f\"\"\"\n",
    "You are an assistant that creates a well crafted schedule from text. \n",
    "Extract all events related data from the provided text and put it in JSON format.\n",
    "\n",
    "\n",
    "{speech_to_text.text}\n",
    "\"\"\""
   ]
  },
  {
   "cell_type": "code",
   "execution_count": 9,
   "metadata": {},
   "outputs": [],
   "source": [
    "from langchain_openai import ChatOpenAI"
   ]
  },
  {
   "cell_type": "code",
   "execution_count": 10,
   "metadata": {},
   "outputs": [],
   "source": [
    "chatmodel = ChatOpenAI(\n",
    "    model='gpt-3.5-turbo',\n",
    "    api_key=OPENAI_API_KEY,\n",
    "    temperature=0.3,\n",
    ")"
   ]
  },
  {
   "cell_type": "code",
   "execution_count": 11,
   "metadata": {},
   "outputs": [],
   "source": [
    "format_chat  = chatmodel.invoke(system_prompt)\n"
   ]
  },
  {
   "cell_type": "code",
   "execution_count": 12,
   "metadata": {},
   "outputs": [
    {
     "data": {
      "text/markdown": [
       "> {\n",
       ">   \"events\": [\n",
       ">     {\n",
       ">       \"date\": \"21st of July 2024\",\n",
       ">       \"event\": \"Meeting with Alex\",\n",
       ">       \"start_time\": \"7:00 p.m.\",\n",
       ">       \"end_time\": \"8:00 p.m.\",\n",
       ">       \"location\": \"Google Meet\",\n",
       ">       \"reminder\": \"15 minutes\"\n",
       ">     },\n",
       ">     {\n",
       ">       \"date\": \"28th of July 2024\",\n",
       ">       \"event\": \"Meeting with Adam\",\n",
       ">       \"start_time\": \"3:00 p.m.\",\n",
       ">       \"end_time\": \"4:00 p.m.\",\n",
       ">       \"location\": \"Google Meet\",\n",
       ">       \"reminder\": \"10 minutes\"\n",
       ">     }\n",
       ">   ]\n",
       "> }"
      ],
      "text/plain": [
       "<IPython.core.display.Markdown object>"
      ]
     },
     "execution_count": 12,
     "metadata": {},
     "output_type": "execute_result"
    }
   ],
   "source": [
    "to_markdown(format_chat.content)"
   ]
  },
  {
   "cell_type": "markdown",
   "metadata": {},
   "source": [
    "#### **Calendar file creation**\n",
    "\n",
    "Extraction of event data."
   ]
  },
  {
   "cell_type": "code",
   "execution_count": 76,
   "metadata": {},
   "outputs": [],
   "source": [
    "# user prompt\n",
    "user_prompt = f\"From the text {speech_to_text.text} create a calendar-like structure.\"\n",
    "\n",
    "calendar_file = client.chat.completions.create(\n",
    "    model='gpt-4o',\n",
    "    messages=[\n",
    "        {'role': 'user', 'content': user_prompt}\n",
    "    ],\n",
    "    tools=schedule_tool,\n",
    "    tool_choice='required',\n",
    "    temperature=0.3\n",
    ")"
   ]
  },
  {
   "cell_type": "code",
   "execution_count": 77,
   "metadata": {},
   "outputs": [
    {
     "name": "stdout",
     "output_type": "stream",
     "text": [
      "ChatCompletion(id='chatcmpl-9jrIiL7pqKaH0J8JLk9y8lEp4ZlYJ', choices=[Choice(finish_reason='stop', index=0, logprobs=None, message=ChatCompletionMessage(content=None, role='assistant', function_call=None, tool_calls=[ChatCompletionMessageToolCall(id='call_xwkf0K8CekVTlc92riUaIa4K', function=Function(arguments='{\"date\":[\"2024-07-14\"],\"start_time\":[\"19:00\"],\"end_time\":[\"21:00\"],\"event\":[\"Synchronized learning with Google\"],\"location\":[\"Zoom\"],\"event_details\":[\"Synchronized learning with Google on Zoom\"],\"reminder\":[\"18:45\"]}', name='schedule_events'), type='function')]))], created=1720716676, model='gpt-4o-2024-05-13', object='chat.completion', service_tier=None, system_fingerprint='fp_d33f7b429e', usage=CompletionUsage(completion_tokens=68, prompt_tokens=244, total_tokens=312))\n"
     ]
    }
   ],
   "source": [
    "print(calendar_file)"
   ]
  },
  {
   "cell_type": "code",
   "execution_count": 78,
   "metadata": {},
   "outputs": [
    {
     "data": {
      "text/markdown": [
       "> {\"date\":[\"2024-07-14\"],\"start_time\":[\"19:00\"],\"end_time\":[\"21:00\"],\"event\":[\"Synchronized learning with Google\"],\"location\":[\"Zoom\"],\"event_details\":[\"Synchronized learning with Google on Zoom\"],\"reminder\":[\"18:45\"]}"
      ],
      "text/plain": [
       "<IPython.core.display.Markdown object>"
      ]
     },
     "execution_count": 78,
     "metadata": {},
     "output_type": "execute_result"
    }
   ],
   "source": [
    "if(calendar_file.choices[0].message.tool_calls):\n",
    "  #If tool call was invoked extract the name of the specific function used\n",
    "  function_name = calendar_file.choices[0].message.tool_calls[0].function.name\n",
    "  #Print the name of the function called\n",
    "  #print(\"called the function: \" + function_name)\n",
    "  # Extract response to user query\n",
    "  result = calendar_file.choices[0].message.tool_calls[0].function.arguments\n",
    "else:\n",
    "  print(\"didn't call a function\")\n",
    "  result = calendar_file.choices[0].message.content\n",
    "  \n",
    "to_markdown(result)"
   ]
  },
  {
   "cell_type": "markdown",
   "metadata": {},
   "source": [
    "#### **String output to JSON file**"
   ]
  },
  {
   "cell_type": "code",
   "execution_count": 79,
   "metadata": {},
   "outputs": [],
   "source": [
    "# Used to create a JSON file\n",
    "import json"
   ]
  },
  {
   "cell_type": "code",
   "execution_count": 80,
   "metadata": {},
   "outputs": [],
   "source": [
    "# converts string to dictionary\n",
    "result_dict = json.loads(result)"
   ]
  },
  {
   "cell_type": "code",
   "execution_count": 81,
   "metadata": {},
   "outputs": [
    {
     "name": "stdout",
     "output_type": "stream",
     "text": [
      "{'events': [{'date': ['2024-07-14'], 'start_time': ['19:00'], 'end_time': ['21:00'], 'event': ['Synchronized learning with Google'], 'location': ['Zoom'], 'event_details': ['Synchronized learning with Google on Zoom'], 'reminder': ['18:45']}]}\n"
     ]
    }
   ],
   "source": [
    "# \n",
    "events_dict = {}\n",
    "# added the extracted events to the dictionary\n",
    "events_dict['events'] = [result_dict]\n",
    "print(events_dict)\n"
   ]
  },
  {
   "cell_type": "code",
   "execution_count": 82,
   "metadata": {},
   "outputs": [],
   "source": [
    "\n",
    "# Define the file path\n",
    "json_file_path = 'events.json'\n",
    "\n",
    "# Write the result to the JSON file\n",
    "with open(json_file_path, 'w') as file:\n",
    "    json.dump(events_dict, file, indent=4)"
   ]
  },
  {
   "cell_type": "markdown",
   "metadata": {},
   "source": [
    "#### **JSON file to .ics file**"
   ]
  },
  {
   "cell_type": "code",
   "execution_count": 83,
   "metadata": {},
   "outputs": [
    {
     "name": "stdout",
     "output_type": "stream",
     "text": [
      "iCalendar file 'events.ics' created successfully.\n"
     ]
    }
   ],
   "source": [
    "from icalendar import Calendar, Event, Alarm\n",
    "from datetime import datetime\n",
    "from pytz import UTC  # This is required for the 'dt' fields in icalendar\n",
    "\n",
    "# Path to your JSON file\n",
    "json_file_path = 'events.json'\n",
    "\n",
    "# Read and load the JSON data from file\n",
    "with open(json_file_path, 'r') as file:\n",
    "    data = json.load(file)\n",
    "\n",
    "# Create an iCalendar file\n",
    "cal = Calendar()\n",
    "\n",
    "for event in data['events']:\n",
    "    # Create an event\n",
    "    ical_event = Event()\n",
    "    \n",
    "    # Assuming the first item in each list is the relevant one\n",
    "    start_date_str = event['date'][0] + ' ' + event['start_time'][0]\n",
    "    end_date_str = event['date'][0] + ' ' + event['end_time'][0]\n",
    "    reminder_str = event['date'][0] + ' ' + event['reminder'][0]\n",
    "    \n",
    "    # Convert to datetime objects\n",
    "    start_date = datetime.strptime(start_date_str, '%Y-%m-%d %H:%M').replace(tzinfo=UTC)\n",
    "    end_date = datetime.strptime(end_date_str, '%Y-%m-%d %H:%M').replace(tzinfo=UTC)\n",
    "    reminder = datetime.strptime(reminder_str, '%Y-%m-%d %H:%M').replace(tzinfo=UTC)\n",
    "    \n",
    "    # Add details to the event\n",
    "    ical_event.add('summary', event['event'][0])\n",
    "    ical_event.add('dtstart', start_date)\n",
    "    ical_event.add('dtend', end_date)\n",
    "    \n",
    "    # Optional: Add location and description if available\n",
    "    if event['location']:\n",
    "        ical_event.add('location', event['location'][0])\n",
    "    if event['event_details']:\n",
    "        ical_event.add('description', event['event_details'][0])\n",
    "\n",
    "    # Create a reminder (alarm)\n",
    "    alarm = Alarm()\n",
    "    alarm.add('action', 'DISPLAY')\n",
    "    alarm.add('description', 'Reminder')\n",
    "    alarm.add('trigger', start_date - reminder)  \n",
    "    \n",
    "    # Add the alarm to the event\n",
    "    ical_event.add_component(alarm)\n",
    "    \n",
    "    # Add the event to the calendar\n",
    "    cal.add_component(ical_event)\n",
    "\n",
    "# Save the iCalendar file\n",
    "file_name = 'events.ics'\n",
    "with open(file_name, 'wb') as f:\n",
    "    f.write(cal.to_ical())\n",
    "\n",
    "print(f\"iCalendar file '{file_name}' created successfully.\")"
   ]
  },
  {
   "cell_type": "markdown",
   "metadata": {},
   "source": [
    "#### **Writing the .ics file to calendar**"
   ]
  },
  {
   "cell_type": "code",
   "execution_count": 84,
   "metadata": {},
   "outputs": [],
   "source": [
    "import os\n",
    "from abc import ABC, abstractmethod\n",
    "from icalendar import Calendar\n",
    "\n",
    "# Step 1: Read and parse the ICS file\n",
    "def read_ics(file_name):\n",
    "    with open(file_name, 'r') as ics_file:\n",
    "        return Calendar.from_ical(ics_file.read())\n",
    "\n",
    "# Step 2: Define an abstract base class for calendar services\n",
    "class CalendarService(ABC):\n",
    "    def __init__(self, credentials):\n",
    "        self.credentials = credentials\n",
    "\n",
    "    @abstractmethod\n",
    "    def authenticate(self):\n",
    "        pass\n",
    "\n",
    "    @abstractmethod\n",
    "    def create_event(self, event):\n",
    "        pass\n",
    "\n",
    "# Step 3: Implement Google Calendar handler\n",
    "class GoogleCalendarService(CalendarService):\n",
    "    def authenticate(self):\n",
    "        from google.oauth2.credentials import Credentials\n",
    "        from google_auth_oauthlib.flow import InstalledAppFlow\n",
    "        from google.auth.transport.requests import Request\n",
    "        from googleapiclient.discovery import build\n",
    "\n",
    "        SCOPES = ['https://www.googleapis.com/auth/calendar']\n",
    "        \n",
    "        creds = None\n",
    "        if os.path.exists('token.json'):\n",
    "            creds = Credentials.from_authorized_user_file('token.json', SCOPES)\n",
    "        if not creds or not creds.valid:\n",
    "            if creds and creds.expired and creds.refresh_token:\n",
    "                creds.refresh(Request())\n",
    "            else:\n",
    "                flow = InstalledAppFlow.from_client_secrets_file(self.credentials, SCOPES)\n",
    "                creds = flow.run_local_server(port=0)\n",
    "            with open('token.json', 'w') as token:\n",
    "                token.write(creds.to_json())\n",
    "        \n",
    "        self.service = build('calendar', 'v3', credentials=creds)\n",
    "\n",
    "    def create_event(self, event):\n",
    "        google_event = {\n",
    "            'summary': str(event.get('summary')),\n",
    "            'start': {'dateTime': event.get('dtstart').dt.isoformat(), 'timeZone': 'UTC'},\n",
    "            'end': {'dateTime': event.get('dtend').dt.isoformat(), 'timeZone': 'UTC'}\n",
    "        }\n",
    "        self.service.events().insert(calendarId='primary', body=google_event).execute()\n",
    "\n",
    "# Step 4: Implement Outlook Calendar handler\n",
    "class OutlookCalendarService(CalendarService):\n",
    "    def authenticate(self):\n",
    "        from O365 import Account, FileSystemTokenBackend\n",
    "        \n",
    "        token_backend = FileSystemTokenBackend(token_path='.')\n",
    "        self.account = Account(self.credentials, token_backend=token_backend)\n",
    "\n",
    "        if not self.account.is_authenticated:\n",
    "            self.account.authenticate(scopes=['https://graph.microsoft.com/Calendars.ReadWrite'])\n",
    "\n",
    "    def create_event(self, event):\n",
    "        schedule = self.account.schedule()\n",
    "        calendar = schedule.get_default_calendar()\n",
    "        \n",
    "        new_event = calendar.new_event()\n",
    "        new_event.subject = str(event.get('summary'))\n",
    "        new_event.start = event.get('dtstart').dt\n",
    "        new_event.end = event.get('dtend').dt\n",
    "        new_event.save()\n",
    "\n",
    "# Step 5: General function to add events to calendar\n",
    "def add_events_to_calendar(service, ics_file_path):\n",
    "    calendar = read_ics(ics_file_path)\n",
    "    for component in calendar.walk():\n",
    "        if component.name == \"VEVENT\":\n",
    "            service.create_event(component)\n",
    "\n",
    "# Example Usage:\n",
    "# Initialize the Google Calendar service\n",
    "google_service = GoogleCalendarService('credential.json')\n",
    "google_service.authenticate()\n",
    "add_events_to_calendar(google_service, file_name)\n",
    "\n",
    "# Initialize the Outlook Calendar service\n",
    "#outlook_service = OutlookCalendarService(('your_client_id', 'your_client_secret'))\n",
    "#outlook_service.authenticate()\n",
    "#add_events_to_calendar(outlook_service, file_name)\n"
   ]
  },
  {
   "cell_type": "markdown",
   "metadata": {},
   "source": [
    "simple sequential chain to get and parse the "
   ]
  }
 ],
 "metadata": {
  "kernelspec": {
   "display_name": "Python 3",
   "language": "python",
   "name": "python3"
  },
  "language_info": {
   "codemirror_mode": {
    "name": "ipython",
    "version": 3
   },
   "file_extension": ".py",
   "mimetype": "text/x-python",
   "name": "python",
   "nbconvert_exporter": "python",
   "pygments_lexer": "ipython3",
   "version": "3.12.2"
  }
 },
 "nbformat": 4,
 "nbformat_minor": 2
}
