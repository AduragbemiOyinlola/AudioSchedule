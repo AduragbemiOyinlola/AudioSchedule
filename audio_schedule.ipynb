{
 "cells": [
  {
   "cell_type": "markdown",
   "metadata": {},
   "source": [
    "### **Libraries**"
   ]
  },
  {
   "cell_type": "code",
   "execution_count": 1,
   "metadata": {},
   "outputs": [],
   "source": [
    "import os\n",
    "import openai\n",
    "from openai import OpenAI"
   ]
  },
  {
   "cell_type": "code",
   "execution_count": 10,
   "metadata": {},
   "outputs": [],
   "source": [
    "import pathlib\n",
    "import textwrap\n",
    "\n",
    "import openai\n",
    "\n",
    "from IPython.display import display\n",
    "from IPython.display import Markdown\n",
    "\n",
    "\n",
    "def to_markdown(text):\n",
    "  text = text.replace('•', '  *')\n",
    "  return Markdown(textwrap.indent(text, '> ', predicate=lambda _: True))"
   ]
  },
  {
   "cell_type": "code",
   "execution_count": 2,
   "metadata": {},
   "outputs": [],
   "source": [
    "OPENAI_API_KEY = os.getenv(\"OPENAI_API_KEY\") # OpenAI API key"
   ]
  },
  {
   "cell_type": "markdown",
   "metadata": {},
   "source": [
    "#### **Define a client**"
   ]
  },
  {
   "cell_type": "code",
   "execution_count": 3,
   "metadata": {},
   "outputs": [],
   "source": [
    "# define an instance of OpenAI model\n",
    "client = OpenAI(api_key=OPENAI_API_KEY)"
   ]
  },
  {
   "cell_type": "markdown",
   "metadata": {},
   "source": [
    "#### **Audio transcription**"
   ]
  },
  {
   "cell_type": "code",
   "execution_count": 4,
   "metadata": {},
   "outputs": [],
   "source": [
    "audio_file= open(\"audio.mp3\", \"rb\")"
   ]
  },
  {
   "cell_type": "code",
   "execution_count": 5,
   "metadata": {},
   "outputs": [],
   "source": [
    "speech_to_text = client.audio.transcriptions.create(\n",
    "    model=\"whisper-1\",\n",
    "    file=audio_file,\n",
    ")"
   ]
  },
  {
   "cell_type": "code",
   "execution_count": 17,
   "metadata": {},
   "outputs": [
    {
     "data": {
      "text/markdown": [
       "> There will be a meeting on the 21st of July at 5pm and the meeting will be about the capstone project."
      ],
      "text/plain": [
       "<IPython.core.display.Markdown object>"
      ]
     },
     "execution_count": 17,
     "metadata": {},
     "output_type": "execute_result"
    }
   ],
   "source": [
    "to_markdown(speech_to_text.text)"
   ]
  },
  {
   "cell_type": "markdown",
   "metadata": {},
   "source": [
    "### **Audio to file**"
   ]
  },
  {
   "cell_type": "markdown",
   "metadata": {},
   "source": [
    "### **Function calling**"
   ]
  },
  {
   "cell_type": "code",
   "execution_count": 8,
   "metadata": {},
   "outputs": [],
   "source": [
    "system_prompt = \"You are an assistant that creates a well crafted schedule from text.\""
   ]
  },
  {
   "cell_type": "code",
   "execution_count": 26,
   "metadata": {},
   "outputs": [],
   "source": [
    "schedule_tool = [\n",
    "    {\n",
    "        'type': 'function',\n",
    "        'function': {\n",
    "            'name': 'schedule_events',\n",
    "            'parameters': {\n",
    "                'type': 'object',\n",
    "                'properties': {\n",
    "                    'date': {\n",
    "                        'type': 'string',\n",
    "                        'description': 'The date of the event in the format YYYY-MM-DD'\n",
    "                    },\n",
    "                    'start_time': {\n",
    "                        'type': 'string',\n",
    "                        'description': 'The time of the event starts'\n",
    "                    },\n",
    "                    'end_time': {\n",
    "                        'type': 'string',\n",
    "                        'description': 'The time of the event ends'\n",
    "                    },\n",
    "                    'event': {\n",
    "                        'type': 'string',\n",
    "                        'description': 'The name of the event'\n",
    "                    },\n",
    "                    'location': {\n",
    "                        'type': 'string',\n",
    "                        'description': 'The location of the event'\n",
    "                    },\n",
    "                    'description': {\n",
    "                        'type': 'string',\n",
    "                        'description': 'A description of the event'\n",
    "                    },\n",
    "                    'reminder': {\n",
    "                        'type': 'string',\n",
    "                        'description': 'The time before the event to send a reminder'\n",
    "                    }\n",
    "                }\n",
    "            },\n",
    "            'required': ['date', 'start_time', 'end_time', 'event'],\n",
    "        },\n",
    "        'instruction': system_prompt\n",
    "    }\n",
    "]"
   ]
  },
  {
   "cell_type": "markdown",
   "metadata": {},
   "source": [
    "#### **Calendar file creation**"
   ]
  },
  {
   "cell_type": "code",
   "execution_count": 31,
   "metadata": {},
   "outputs": [],
   "source": [
    "user_prompt = f\"From the text {speech_to_text.text} create a calendar-like structure.\"\n",
    "\n",
    "calendar_file = client.chat.completions.create(\n",
    "    model='gpt-4o',\n",
    "    messages=[\n",
    "        {'role': 'user', 'content': user_prompt}\n",
    "    ],\n",
    "    tools=schedule_tool,\n",
    "    tool_choice='required',\n",
    "    temperature=0.3\n",
    ")"
   ]
  },
  {
   "cell_type": "code",
   "execution_count": 32,
   "metadata": {},
   "outputs": [
    {
     "name": "stdout",
     "output_type": "stream",
     "text": [
      "ChatCompletion(id='chatcmpl-9gXgQsSj46ZMZRO4cUb2J36CkbUVn', choices=[Choice(finish_reason='stop', index=0, logprobs=None, message=ChatCompletionMessage(content=None, role='assistant', function_call=None, tool_calls=[ChatCompletionMessageToolCall(id='call_CLT8RAXBRI85NGvABq9l2wiW', function=Function(arguments='{\"date\":\"2023-07-21\",\"start_time\":\"17:00\",\"event\":\"Meeting about the capstone project\",\"description\":\"Meeting about the capstone project\"}', name='schedule_events'), type='function')]))], created=1719926282, model='gpt-4o-2024-05-13', object='chat.completion', service_tier=None, system_fingerprint='fp_4008e3b719', usage=CompletionUsage(completion_tokens=42, prompt_tokens=157, total_tokens=199))\n"
     ]
    }
   ],
   "source": [
    "print(calendar_file)"
   ]
  },
  {
   "cell_type": "code",
   "execution_count": 33,
   "metadata": {},
   "outputs": [
    {
     "name": "stdout",
     "output_type": "stream",
     "text": [
      "called the function: schedule_events\n"
     ]
    },
    {
     "data": {
      "text/markdown": [
       "> {\"date\":\"2023-07-21\",\"start_time\":\"17:00\",\"event\":\"Meeting about the capstone project\",\"description\":\"Meeting about the capstone project\"}"
      ],
      "text/plain": [
       "<IPython.core.display.Markdown object>"
      ]
     },
     "execution_count": 33,
     "metadata": {},
     "output_type": "execute_result"
    }
   ],
   "source": [
    "if(calendar_file.choices[0].message.tool_calls):\n",
    "  #If tool call was invoked extract the name of the specific function used\n",
    "  function_name = calendar_file.choices[0].message.tool_calls[0].function.name\n",
    "  #Print the name of the function called\n",
    "  print(\"called the function: \" + function_name)\n",
    "  # Extract response to user query\n",
    "  result = calendar_file.choices[0].message.tool_calls[0].function.arguments\n",
    "else:\n",
    "  print(\"didn't call a function\")\n",
    "  result = calendar_file.choices[0].message.content\n",
    "  \n",
    "to_markdown(result)"
   ]
  },
  {
   "cell_type": "code",
   "execution_count": 37,
   "metadata": {},
   "outputs": [],
   "source": [
    "import json"
   ]
  },
  {
   "cell_type": "code",
   "execution_count": null,
   "metadata": {},
   "outputs": [],
   "source": []
  },
  {
   "cell_type": "code",
   "execution_count": 36,
   "metadata": {},
   "outputs": [
    {
     "ename": "OSError",
     "evalue": "[Errno 22] Invalid argument: '{\"date\":\"2023-07-21\",\"start_time\":\"17:00\",\"event\":\"Meeting about the capstone project\",\"description\":\"Meeting about the capstone project\"}'",
     "output_type": "error",
     "traceback": [
      "\u001b[1;31m---------------------------------------------------------------------------\u001b[0m",
      "\u001b[1;31mOSError\u001b[0m                                   Traceback (most recent call last)",
      "Cell \u001b[1;32mIn[36], line 31\u001b[0m\n\u001b[0;32m     28\u001b[0m json_file_path \u001b[38;5;241m=\u001b[39m \u001b[38;5;124m'\u001b[39m\u001b[38;5;124mevents.json\u001b[39m\u001b[38;5;124m'\u001b[39m  \u001b[38;5;66;03m# Path to your JSON file\u001b[39;00m\n\u001b[0;32m     29\u001b[0m ics_file_path \u001b[38;5;241m=\u001b[39m \u001b[38;5;124m'\u001b[39m\u001b[38;5;124mevents.ics\u001b[39m\u001b[38;5;124m'\u001b[39m    \u001b[38;5;66;03m# Path where the ICS file will be saved\u001b[39;00m\n\u001b[1;32m---> 31\u001b[0m \u001b[43mjson_to_ics\u001b[49m\u001b[43m(\u001b[49m\u001b[43mresult\u001b[49m\u001b[43m,\u001b[49m\u001b[43m \u001b[49m\u001b[43mics_file_path\u001b[49m\u001b[43m)\u001b[49m\n",
      "Cell \u001b[1;32mIn[36], line 6\u001b[0m, in \u001b[0;36mjson_to_ics\u001b[1;34m(json_file_path, ics_file_path)\u001b[0m\n\u001b[0;32m      4\u001b[0m \u001b[38;5;28;01mdef\u001b[39;00m \u001b[38;5;21mjson_to_ics\u001b[39m(json_file_path, ics_file_path):\n\u001b[0;32m      5\u001b[0m     \u001b[38;5;66;03m# Load JSON data\u001b[39;00m\n\u001b[1;32m----> 6\u001b[0m     \u001b[38;5;28;01mwith\u001b[39;00m \u001b[38;5;28;43mopen\u001b[39;49m\u001b[43m(\u001b[49m\u001b[43mjson_file_path\u001b[49m\u001b[43m,\u001b[49m\u001b[43m \u001b[49m\u001b[38;5;124;43m'\u001b[39;49m\u001b[38;5;124;43mr\u001b[39;49m\u001b[38;5;124;43m'\u001b[39;49m\u001b[43m)\u001b[49m \u001b[38;5;28;01mas\u001b[39;00m f:\n\u001b[0;32m      7\u001b[0m         data \u001b[38;5;241m=\u001b[39m json\u001b[38;5;241m.\u001b[39mload(f)\n\u001b[0;32m      9\u001b[0m     \u001b[38;5;66;03m# Create a new calendar\u001b[39;00m\n",
      "File \u001b[1;32mc:\\Users\\Aduragbemi\\AppData\\Local\\Programs\\Python\\Python312\\Lib\\site-packages\\IPython\\core\\interactiveshell.py:284\u001b[0m, in \u001b[0;36m_modified_open\u001b[1;34m(file, *args, **kwargs)\u001b[0m\n\u001b[0;32m    277\u001b[0m \u001b[38;5;28;01mif\u001b[39;00m file \u001b[38;5;129;01min\u001b[39;00m {\u001b[38;5;241m0\u001b[39m, \u001b[38;5;241m1\u001b[39m, \u001b[38;5;241m2\u001b[39m}:\n\u001b[0;32m    278\u001b[0m     \u001b[38;5;28;01mraise\u001b[39;00m \u001b[38;5;167;01mValueError\u001b[39;00m(\n\u001b[0;32m    279\u001b[0m         \u001b[38;5;124mf\u001b[39m\u001b[38;5;124m\"\u001b[39m\u001b[38;5;124mIPython won\u001b[39m\u001b[38;5;124m'\u001b[39m\u001b[38;5;124mt let you open fd=\u001b[39m\u001b[38;5;132;01m{\u001b[39;00mfile\u001b[38;5;132;01m}\u001b[39;00m\u001b[38;5;124m by default \u001b[39m\u001b[38;5;124m\"\u001b[39m\n\u001b[0;32m    280\u001b[0m         \u001b[38;5;124m\"\u001b[39m\u001b[38;5;124mas it is likely to crash IPython. If you know what you are doing, \u001b[39m\u001b[38;5;124m\"\u001b[39m\n\u001b[0;32m    281\u001b[0m         \u001b[38;5;124m\"\u001b[39m\u001b[38;5;124myou can use builtins\u001b[39m\u001b[38;5;124m'\u001b[39m\u001b[38;5;124m open.\u001b[39m\u001b[38;5;124m\"\u001b[39m\n\u001b[0;32m    282\u001b[0m     )\n\u001b[1;32m--> 284\u001b[0m \u001b[38;5;28;01mreturn\u001b[39;00m \u001b[43mio_open\u001b[49m\u001b[43m(\u001b[49m\u001b[43mfile\u001b[49m\u001b[43m,\u001b[49m\u001b[43m \u001b[49m\u001b[38;5;241;43m*\u001b[39;49m\u001b[43margs\u001b[49m\u001b[43m,\u001b[49m\u001b[43m \u001b[49m\u001b[38;5;241;43m*\u001b[39;49m\u001b[38;5;241;43m*\u001b[39;49m\u001b[43mkwargs\u001b[49m\u001b[43m)\u001b[49m\n",
      "\u001b[1;31mOSError\u001b[0m: [Errno 22] Invalid argument: '{\"date\":\"2023-07-21\",\"start_time\":\"17:00\",\"event\":\"Meeting about the capstone project\",\"description\":\"Meeting about the capstone project\"}'"
     ]
    }
   ],
   "source": [
    "from ics import Calendar, Event\n",
    "\n",
    "def json_to_ics(json_file_path, ics_file_path):\n",
    "    # Load JSON data\n",
    "    with open(json_file_path, 'r') as f:\n",
    "        data = json.load(f)\n",
    "\n",
    "    # Create a new calendar\n",
    "    calendar = Calendar()\n",
    "\n",
    "    # Iterate through each event in the JSON data\n",
    "    for event_data in data['events']:\n",
    "        event = Event()\n",
    "        event.name = event_data.get('name', 'No Title')\n",
    "        event.begin = event_data['start']\n",
    "        event.end = event_data.get('end', event_data['start'])\n",
    "        event.location = event_data.get('location', '')\n",
    "        event.description = event_data.get('description', '')\n",
    "        \n",
    "        calendar.events.add(event)\n",
    "\n",
    "    # Write the calendar to an .ics file\n",
    "    with open(ics_file_path, 'w') as f:\n",
    "        f.writelines(calendar)\n",
    "\n",
    "# Example usage\n",
    "json_file_path = 'events.json'  # Path to your JSON file\n",
    "ics_file_path = 'events.ics'    # Path where the ICS file will be saved\n",
    "\n",
    "json_to_ics(result, ics_file_path)"
   ]
  },
  {
   "cell_type": "code",
   "execution_count": null,
   "metadata": {},
   "outputs": [],
   "source": []
  }
 ],
 "metadata": {
  "kernelspec": {
   "display_name": "Python 3",
   "language": "python",
   "name": "python3"
  },
  "language_info": {
   "codemirror_mode": {
    "name": "ipython",
    "version": 3
   },
   "file_extension": ".py",
   "mimetype": "text/x-python",
   "name": "python",
   "nbconvert_exporter": "python",
   "pygments_lexer": "ipython3",
   "version": "3.12.2"
  }
 },
 "nbformat": 4,
 "nbformat_minor": 2
}
