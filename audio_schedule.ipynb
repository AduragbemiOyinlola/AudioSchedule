{
 "cells": [
  {
   "cell_type": "markdown",
   "metadata": {},
   "source": [
    "### **Libraries**\n",
    "\n",
    "Some of the needed libraries for this project."
   ]
  },
  {
   "cell_type": "code",
   "execution_count": 19,
   "metadata": {},
   "outputs": [],
   "source": [
    "import os\n",
    "import openai\n",
    "from openai import OpenAI"
   ]
  },
  {
   "cell_type": "code",
   "execution_count": 20,
   "metadata": {},
   "outputs": [],
   "source": [
    "import pathlib\n",
    "import textwrap\n",
    "\n",
    "from IPython.display import display\n",
    "from IPython.display import Markdown\n",
    "\n",
    "\n",
    "def to_markdown(text):\n",
    "  text = text.replace('•', '  *')\n",
    "  return Markdown(textwrap.indent(text, '> ', predicate=lambda _: True))"
   ]
  },
  {
   "cell_type": "code",
   "execution_count": 21,
   "metadata": {},
   "outputs": [],
   "source": [
    "OPENAI_API_KEY = os.getenv(\"OPENAI_API_KEY\") # OpenAI API key"
   ]
  },
  {
   "cell_type": "markdown",
   "metadata": {},
   "source": [
    "#### **Define a client**\n",
    "\n",
    "Created an instance of the OpenAI model"
   ]
  },
  {
   "cell_type": "code",
   "execution_count": 22,
   "metadata": {},
   "outputs": [],
   "source": [
    "# define an instance of OpenAI model\n",
    "client = OpenAI(api_key=OPENAI_API_KEY)"
   ]
  },
  {
   "cell_type": "markdown",
   "metadata": {},
   "source": [
    "#### **Audio transcription**\n",
    "\n",
    "Transcribed the audio file."
   ]
  },
  {
   "cell_type": "code",
   "execution_count": 23,
   "metadata": {},
   "outputs": [],
   "source": [
    "audio_file= open(\"multiple.mp3\", \"rb\")"
   ]
  },
  {
   "cell_type": "code",
   "execution_count": 24,
   "metadata": {},
   "outputs": [],
   "source": [
    "speech_to_text = client.audio.transcriptions.create(\n",
    "    model=\"whisper-1\",\n",
    "    file=audio_file\n",
    ")"
   ]
  },
  {
   "cell_type": "code",
   "execution_count": 25,
   "metadata": {},
   "outputs": [
    {
     "data": {
      "text/markdown": [
       "> On the 21st of July 2024, I'll be having a meeting with Alex, which will start by 7 p.m. and end by 8 p.m. The event will take place on Google Meet. Set the reminder for 15 minutes. And on the 28th of July 2024, I'll have another meeting with Adam by 3 p.m. and it will end by 4 p.m. The event is going to take place on Google Meet. Set the reminder for 10 minutes."
      ],
      "text/plain": [
       "<IPython.core.display.Markdown object>"
      ]
     },
     "execution_count": 25,
     "metadata": {},
     "output_type": "execute_result"
    }
   ],
   "source": [
    "to_markdown(speech_to_text.text)"
   ]
  },
  {
   "cell_type": "markdown",
   "metadata": {},
   "source": [
    "### **Conversational chat**\n",
    "\n",
    "Using conversational chat to extract event related data."
   ]
  },
  {
   "cell_type": "code",
   "execution_count": 35,
   "metadata": {},
   "outputs": [],
   "source": [
    "extract_prompt = f\"\"\"\n",
    "You are an assistant that creates a well crafted schedule from text. \n",
    "Extract all events related data from the provided text and put it in JSON format.\n",
    "\n",
    "\n",
    "{speech_to_text.text}\n",
    "\"\"\""
   ]
  },
  {
   "cell_type": "code",
   "execution_count": 27,
   "metadata": {},
   "outputs": [],
   "source": [
    "from langchain_openai import ChatOpenAI"
   ]
  },
  {
   "cell_type": "code",
   "execution_count": 28,
   "metadata": {},
   "outputs": [],
   "source": [
    "chatmodel = ChatOpenAI(\n",
    "    model='gpt-3.5-turbo',\n",
    "    api_key=OPENAI_API_KEY,\n",
    "    temperature=0.3,\n",
    ")"
   ]
  },
  {
   "cell_type": "code",
   "execution_count": 36,
   "metadata": {},
   "outputs": [],
   "source": [
    "format_chat  = chatmodel.invoke(extract_prompt)\n"
   ]
  },
  {
   "cell_type": "code",
   "execution_count": 30,
   "metadata": {},
   "outputs": [
    {
     "data": {
      "text/markdown": [
       "> {\n",
       ">   \"events\": [\n",
       ">     {\n",
       ">       \"date\": \"21st of July 2024\",\n",
       ">       \"event\": \"Meeting with Alex\",\n",
       ">       \"start_time\": \"7:00 p.m.\",\n",
       ">       \"end_time\": \"8:00 p.m.\",\n",
       ">       \"location\": \"Google Meet\",\n",
       ">       \"reminder\": \"15 minutes\"\n",
       ">     },\n",
       ">     {\n",
       ">       \"date\": \"28th of July 2024\",\n",
       ">       \"event\": \"Meeting with Adam\",\n",
       ">       \"start_time\": \"3:00 p.m.\",\n",
       ">       \"end_time\": \"4:00 p.m.\",\n",
       ">       \"location\": \"Google Meet\",\n",
       ">       \"reminder\": \"10 minutes\"\n",
       ">     }\n",
       ">   ]\n",
       "> }"
      ],
      "text/plain": [
       "<IPython.core.display.Markdown object>"
      ]
     },
     "execution_count": 30,
     "metadata": {},
     "output_type": "execute_result"
    }
   ],
   "source": [
    "to_markdown(format_chat.content)"
   ]
  },
  {
   "cell_type": "markdown",
   "metadata": {},
   "source": [
    "#### **Convert the datatype**"
   ]
  },
  {
   "cell_type": "code",
   "execution_count": 70,
   "metadata": {},
   "outputs": [],
   "source": [
    "data_type = f\"\"\"\n",
    "I want you to convert the date and time from the text to a format that can be easily converted\n",
    "Put all time in 24 hours format.\n",
    "\n",
    "\n",
    "Example:\n",
    "21st of July 2024 >> 2024-07-21\n",
    "10 minutes >> 00:10\n",
    "\n",
    "and parse the output as a JSON object.\n",
    "\n",
    "\n",
    "{format_chat.content}\n",
    "\"\"\""
   ]
  },
  {
   "cell_type": "code",
   "execution_count": 71,
   "metadata": {},
   "outputs": [
    {
     "data": {
      "text/markdown": [
       "> {\n",
       ">   \"events\": [\n",
       ">     {\n",
       ">       \"date\": \"2024-07-21\",\n",
       ">       \"event\": \"Meeting with Alex\",\n",
       ">       \"start_time\": \"19:00\",\n",
       ">       \"end_time\": \"20:00\",\n",
       ">       \"location\": \"Google Meet\",\n",
       ">       \"reminder\": \"00:15\"\n",
       ">     },\n",
       ">     {\n",
       ">       \"date\": \"2024-07-28\",\n",
       ">       \"event\": \"Meeting with Adam\",\n",
       ">       \"start_time\": \"15:00\",\n",
       ">       \"end_time\": \"16:00\",\n",
       ">       \"location\": \"Google Meet\",\n",
       ">       \"reminder\": \"00:10\"\n",
       ">     }\n",
       ">   ]\n",
       "> }"
      ],
      "text/plain": [
       "<IPython.core.display.Markdown object>"
      ]
     },
     "execution_count": 71,
     "metadata": {},
     "output_type": "execute_result"
    }
   ],
   "source": [
    "data_chat = chatmodel.invoke(data_type)\n",
    "to_markdown(data_chat.content)"
   ]
  },
  {
   "cell_type": "markdown",
   "metadata": {},
   "source": [
    "#### **String output to JSON file**"
   ]
  },
  {
   "cell_type": "code",
   "execution_count": 72,
   "metadata": {},
   "outputs": [],
   "source": [
    "# Used to create a JSON file\n",
    "import json"
   ]
  },
  {
   "cell_type": "code",
   "execution_count": 73,
   "metadata": {},
   "outputs": [],
   "source": [
    "# converts string to dictionary\n",
    "result_dict = json.loads(data_chat.content)"
   ]
  },
  {
   "cell_type": "code",
   "execution_count": 74,
   "metadata": {},
   "outputs": [],
   "source": [
    "\n",
    "# Define the file path\n",
    "json_file_path = 'events.json'\n",
    "\n",
    "# Write the result to the JSON file\n",
    "with open(json_file_path, 'w') as file:\n",
    "    json.dump(result_dict, file, indent=4)"
   ]
  },
  {
   "cell_type": "markdown",
   "metadata": {},
   "source": [
    "#### **JSON file to .ics file**"
   ]
  },
  {
   "cell_type": "code",
   "execution_count": 75,
   "metadata": {},
   "outputs": [
    {
     "name": "stdout",
     "output_type": "stream",
     "text": [
      "iCalendar file 'events.ics' created successfully.\n"
     ]
    }
   ],
   "source": [
    "import json  # Import json module to read JSON file\n",
    "from icalendar import Calendar, Event, Alarm\n",
    "from datetime import datetime, timedelta\n",
    "from pytz import UTC  # This is required for the 'dt' fields in icalendar\n",
    "\n",
    "# Path to your JSON file\n",
    "json_file_path = 'events.json'\n",
    "\n",
    "# Read and load the JSON data from file\n",
    "with open(json_file_path, 'r') as file:\n",
    "    data = json.load(file)\n",
    "\n",
    "# Create an iCalendar file\n",
    "cal = Calendar()\n",
    "\n",
    "for event in data['events']:\n",
    "    # Create an event\n",
    "    ical_event = Event()\n",
    "    \n",
    "    # Correctly access the properties of each event\n",
    "    start_date_str = event['date'] + ' ' + event['start_time']\n",
    "    end_date_str = event['date'] + ' ' + event['end_time']\n",
    "    reminder_str = event['date'] + ' ' + event['reminder']\n",
    "    \n",
    "    # Convert to datetime objects\n",
    "    start_date = datetime.strptime(start_date_str, '%Y-%m-%d %H:%M').replace(tzinfo=UTC)\n",
    "    end_date = datetime.strptime(end_date_str, '%Y-%m-%d %H:%M').replace(tzinfo=UTC)\n",
    "    reminder_time = datetime.strptime(reminder_str, '%Y-%m-%d %H:%M').replace(tzinfo=UTC)\n",
    "    \n",
    "    # Calculate reminder trigger time as a timedelta before the event start\n",
    "    reminder_delta = start_date - reminder_time\n",
    "    \n",
    "    # Add details to the event\n",
    "    ical_event.add('summary', event['event'])\n",
    "    ical_event.add('dtstart', start_date)\n",
    "    ical_event.add('dtend', end_date)\n",
    "    \n",
    "    # Optional: Add location and description if available\n",
    "    if 'location' in event:\n",
    "        ical_event.add('location', event['location'])\n",
    "    if 'event_details' in event:\n",
    "        ical_event.add('description', event.get('event_details', ''))\n",
    "\n",
    "    # Create a reminder (alarm)\n",
    "    alarm = Alarm()\n",
    "    alarm.add('action', 'DISPLAY')\n",
    "    alarm.add('description', 'Reminder')\n",
    "    alarm.add('trigger', -reminder_delta)  \n",
    "    \n",
    "    # Add the alarm to the event\n",
    "    ical_event.add_component(alarm)\n",
    "    \n",
    "    # Add the event to the calendar\n",
    "    cal.add_component(ical_event)\n",
    "\n",
    "# Save the iCalendar file\n",
    "file_name = 'events.ics'\n",
    "with open(file_name, 'wb') as f:\n",
    "    f.write(cal.to_ical())\n",
    "\n",
    "print(f\"iCalendar file '{file_name}' created successfully.\")"
   ]
  },
  {
   "cell_type": "markdown",
   "metadata": {},
   "source": [
    "#### **Writing the .ics file to calendar**"
   ]
  },
  {
   "cell_type": "code",
   "execution_count": 76,
   "metadata": {},
   "outputs": [],
   "source": [
    "import os\n",
    "from abc import ABC, abstractmethod\n",
    "from icalendar import Calendar\n",
    "\n",
    "# Step 1: Read and parse the ICS file\n",
    "def read_ics(file_name):\n",
    "    with open(file_name, 'r') as ics_file:\n",
    "        return Calendar.from_ical(ics_file.read())\n",
    "\n",
    "# Step 2: Define an abstract base class for calendar services\n",
    "class CalendarService(ABC):\n",
    "    def __init__(self, credentials):\n",
    "        self.credentials = credentials\n",
    "\n",
    "    @abstractmethod\n",
    "    def authenticate(self):\n",
    "        pass\n",
    "\n",
    "    @abstractmethod\n",
    "    def create_event(self, event):\n",
    "        pass\n",
    "\n",
    "# Step 3: Implement Google Calendar handler\n",
    "class GoogleCalendarService(CalendarService):\n",
    "    def authenticate(self):\n",
    "        from google.oauth2.credentials import Credentials\n",
    "        from google_auth_oauthlib.flow import InstalledAppFlow\n",
    "        from google.auth.transport.requests import Request\n",
    "        from googleapiclient.discovery import build\n",
    "\n",
    "        SCOPES = ['https://www.googleapis.com/auth/calendar']\n",
    "        \n",
    "        creds = None\n",
    "        if os.path.exists('token.json'):\n",
    "            creds = Credentials.from_authorized_user_file('token.json', SCOPES)\n",
    "        if not creds or not creds.valid:\n",
    "            if creds and creds.expired and creds.refresh_token:\n",
    "                creds.refresh(Request())\n",
    "            else:\n",
    "                flow = InstalledAppFlow.from_client_secrets_file(self.credentials, SCOPES)\n",
    "                creds = flow.run_local_server(port=0)\n",
    "            with open('token.json', 'w') as token:\n",
    "                token.write(creds.to_json())\n",
    "        \n",
    "        self.service = build('calendar', 'v3', credentials=creds)\n",
    "\n",
    "    def create_event(self, event):\n",
    "        google_event = {\n",
    "            'summary': str(event.get('summary')),\n",
    "            'start': {'dateTime': event.get('dtstart').dt.isoformat(), 'timeZone': 'UTC'},\n",
    "            'end': {'dateTime': event.get('dtend').dt.isoformat(), 'timeZone': 'UTC'}\n",
    "        }\n",
    "        self.service.events().insert(calendarId='primary', body=google_event).execute()\n",
    "\n",
    "# Step 5: General function to add events to calendar\n",
    "def add_events_to_calendar(service, ics_file_path):\n",
    "    calendar = read_ics(ics_file_path)\n",
    "    for component in calendar.walk():\n",
    "        if component.name == \"VEVENT\":\n",
    "            service.create_event(component)\n",
    "\n",
    "# Example Usage:\n",
    "# Initialize the Google Calendar service\n",
    "google_service = GoogleCalendarService('credential.json')\n",
    "google_service.authenticate()\n",
    "add_events_to_calendar(google_service, 'events.ics')"
   ]
  }
 ],
 "metadata": {
  "kernelspec": {
   "display_name": "Python 3",
   "language": "python",
   "name": "python3"
  },
  "language_info": {
   "codemirror_mode": {
    "name": "ipython",
    "version": 3
   },
   "file_extension": ".py",
   "mimetype": "text/x-python",
   "name": "python",
   "nbconvert_exporter": "python",
   "pygments_lexer": "ipython3",
   "version": "3.12.2"
  }
 },
 "nbformat": 4,
 "nbformat_minor": 2
}
