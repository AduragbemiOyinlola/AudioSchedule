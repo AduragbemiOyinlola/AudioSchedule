{
 "cells": [
  {
   "cell_type": "markdown",
   "metadata": {},
   "source": [
    "### **Libraries**"
   ]
  },
  {
   "cell_type": "code",
   "execution_count": 1,
   "metadata": {},
   "outputs": [],
   "source": [
    "import os\n",
    "import openai\n",
    "from openai import OpenAI"
   ]
  },
  {
   "cell_type": "code",
   "execution_count": 10,
   "metadata": {},
   "outputs": [],
   "source": [
    "import pathlib\n",
    "import textwrap\n",
    "\n",
    "import openai\n",
    "\n",
    "from IPython.display import display\n",
    "from IPython.display import Markdown\n",
    "\n",
    "\n",
    "def to_markdown(text):\n",
    "  text = text.replace('•', '  *')\n",
    "  return Markdown(textwrap.indent(text, '> ', predicate=lambda _: True))"
   ]
  },
  {
   "cell_type": "code",
   "execution_count": 2,
   "metadata": {},
   "outputs": [],
   "source": [
    "OPENAI_API_KEY = os.getenv(\"OPENAI_API_KEY\") # OpenAI API key"
   ]
  },
  {
   "cell_type": "markdown",
   "metadata": {},
   "source": [
    "#### **Define a client**"
   ]
  },
  {
   "cell_type": "code",
   "execution_count": 3,
   "metadata": {},
   "outputs": [],
   "source": [
    "# define an instance of OpenAI model\n",
    "client = OpenAI(api_key=OPENAI_API_KEY)"
   ]
  },
  {
   "cell_type": "markdown",
   "metadata": {},
   "source": [
    "#### **Audio transcription**"
   ]
  },
  {
   "cell_type": "code",
   "execution_count": 4,
   "metadata": {},
   "outputs": [],
   "source": [
    "audio_file= open(\"audio.mp3\", \"rb\")"
   ]
  },
  {
   "cell_type": "code",
   "execution_count": 5,
   "metadata": {},
   "outputs": [],
   "source": [
    "speech_to_text = client.audio.transcriptions.create(\n",
    "    model=\"whisper-1\",\n",
    "    file=audio_file,\n",
    ")"
   ]
  },
  {
   "cell_type": "code",
   "execution_count": 17,
   "metadata": {},
   "outputs": [
    {
     "data": {
      "text/markdown": [
       "> There will be a meeting on the 21st of July at 5pm and the meeting will be about the capstone project."
      ],
      "text/plain": [
       "<IPython.core.display.Markdown object>"
      ]
     },
     "execution_count": 17,
     "metadata": {},
     "output_type": "execute_result"
    }
   ],
   "source": [
    "to_markdown(speech_to_text.text)"
   ]
  },
  {
   "cell_type": "markdown",
   "metadata": {},
   "source": [
    "### **Audio to file**"
   ]
  },
  {
   "cell_type": "markdown",
   "metadata": {},
   "source": [
    "### **Function calling**"
   ]
  },
  {
   "cell_type": "code",
   "execution_count": 8,
   "metadata": {},
   "outputs": [],
   "source": [
    "system_prompt = \"You are an assistant that creates a well crafted schedule from text.\""
   ]
  },
  {
   "cell_type": "code",
   "execution_count": 26,
   "metadata": {},
   "outputs": [],
   "source": [
    "schedule_tool = [\n",
    "    {\n",
    "        'type': 'function',\n",
    "        'function': {\n",
    "            'name': 'schedule_events',\n",
    "            'parameters': {\n",
    "                'type': 'object',\n",
    "                'properties': {\n",
    "                    'date': {\n",
    "                        'type': 'string',\n",
    "                        'description': 'The date of the event in the format YYYY-MM-DD'\n",
    "                    },\n",
    "                    'start_time': {\n",
    "                        'type': 'string',\n",
    "                        'description': 'The time of the event starts'\n",
    "                    },\n",
    "                    'end_time': {\n",
    "                        'type': 'string',\n",
    "                        'description': 'The time of the event ends'\n",
    "                    },\n",
    "                    'event': {\n",
    "                        'type': 'string',\n",
    "                        'description': 'The name of the event'\n",
    "                    },\n",
    "                    'location': {\n",
    "                        'type': 'string',\n",
    "                        'description': 'The location of the event'\n",
    "                    },\n",
    "                    'description': {\n",
    "                        'type': 'string',\n",
    "                        'description': 'A description of the event'\n",
    "                    },\n",
    "                    'reminder': {\n",
    "                        'type': 'string',\n",
    "                        'description': 'The time before the event to send a reminder'\n",
    "                    }\n",
    "                }\n",
    "            },\n",
    "            'required': ['date', 'start_time', 'end_time', 'event'],\n",
    "        },\n",
    "        'instruction': system_prompt\n",
    "    }\n",
    "]"
   ]
  },
  {
   "cell_type": "markdown",
   "metadata": {},
   "source": [
    "#### **Calendar file creation**"
   ]
  },
  {
   "cell_type": "code",
   "execution_count": 27,
   "metadata": {},
   "outputs": [],
   "source": [
    "user_prompt = f\"From the text {speech_to_text.text} create a calendar-like structure.\"\n",
    "\n",
    "calendar_file = client.chat.completions.create(\n",
    "    model='gpt-4o',\n",
    "    messages=[\n",
    "        {'role': 'user', 'content': user_prompt}\n",
    "    ],\n",
    "    tools=schedule_tool,\n",
    "    # tool_choice='auto',\n",
    "    temperature=0.3\n",
    ")"
   ]
  },
  {
   "cell_type": "code",
   "execution_count": 28,
   "metadata": {},
   "outputs": [
    {
     "name": "stdout",
     "output_type": "stream",
     "text": [
      "ChatCompletion(id='chatcmpl-9gDtI7MNGrpkEXI2u3qgG7Twyjogp', choices=[Choice(finish_reason='tool_calls', index=0, logprobs=None, message=ChatCompletionMessage(content=None, role='assistant', function_call=None, tool_calls=[ChatCompletionMessageToolCall(id='call_5dox6s1ZKZchIJKQOFmJTRgl', function=Function(arguments='{\"date\":\"2023-07-21\",\"start_time\":\"17:00\",\"event\":\"Meeting about the capstone project\",\"description\":\"A meeting to discuss the capstone project\"}', name='schedule_events'), type='function')]))], created=1719850200, model='gpt-4o-2024-05-13', object='chat.completion', service_tier=None, system_fingerprint='fp_ce0793330f', usage=CompletionUsage(completion_tokens=46, prompt_tokens=155, total_tokens=201))\n"
     ]
    }
   ],
   "source": [
    "print(calendar_file)"
   ]
  },
  {
   "cell_type": "code",
   "execution_count": 30,
   "metadata": {},
   "outputs": [
    {
     "name": "stdout",
     "output_type": "stream",
     "text": [
      "called the function: schedule_events\n"
     ]
    },
    {
     "data": {
      "text/markdown": [
       "> {\"date\":\"2023-07-21\",\"start_time\":\"17:00\",\"event\":\"Meeting about the capstone project\",\"description\":\"A meeting to discuss the capstone project\"}"
      ],
      "text/plain": [
       "<IPython.core.display.Markdown object>"
      ]
     },
     "execution_count": 30,
     "metadata": {},
     "output_type": "execute_result"
    }
   ],
   "source": [
    "if(calendar_file.choices[0].message.tool_calls):\n",
    "  #If tool call was invoked extract the name of the specific function used\n",
    "  function_name = calendar_file.choices[0].message.tool_calls[0].function.name\n",
    "  #Print the name of the function called\n",
    "  print(\"called the function: \" + function_name)\n",
    "  # Extract response to user query\n",
    "  result = calendar_file.choices[0].message.tool_calls[0].function.arguments\n",
    "else:\n",
    "  print(\"didn't call a function\")\n",
    "  result = calendar_file.choices[0].message.content\n",
    "  \n",
    "to_markdown(result)"
   ]
  },
  {
   "cell_type": "code",
   "execution_count": null,
   "metadata": {},
   "outputs": [],
   "source": []
  },
  {
   "cell_type": "code",
   "execution_count": null,
   "metadata": {},
   "outputs": [],
   "source": []
  }
 ],
 "metadata": {
  "kernelspec": {
   "display_name": "Python 3",
   "language": "python",
   "name": "python3"
  },
  "language_info": {
   "codemirror_mode": {
    "name": "ipython",
    "version": 3
   },
   "file_extension": ".py",
   "mimetype": "text/x-python",
   "name": "python",
   "nbconvert_exporter": "python",
   "pygments_lexer": "ipython3",
   "version": "3.12.2"
  }
 },
 "nbformat": 4,
 "nbformat_minor": 2
}
